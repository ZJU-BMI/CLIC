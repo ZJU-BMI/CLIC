{
 "cells": [
  {
   "cell_type": "code",
   "id": "initial_id",
   "metadata": {
    "collapsed": true
   },
   "source": [
    "import pandas as pd\n",
    "import numpy as np\n",
    "import os\n",
    "from lifelines import CoxPHFitter\n",
    "from statsmodels.stats import multitest"
   ],
   "outputs": [],
   "execution_count": null
  },
  {
   "metadata": {},
   "cell_type": "code",
   "source": "df = pd.read_csv('data/ukb_ecg_data_balanced_cluster.csv')",
   "id": "ac12b847b0155dc1",
   "outputs": [],
   "execution_count": null
  },
  {
   "metadata": {},
   "cell_type": "code",
   "source": "df['cluster_assign'].value_counts()",
   "id": "2787e9933a9b3136",
   "outputs": [],
   "execution_count": null
  },
  {
   "metadata": {},
   "cell_type": "code",
   "source": "df['event'].value_counts()",
   "id": "b3a750e0c73a6ff",
   "outputs": [],
   "execution_count": null
  },
  {
   "metadata": {},
   "cell_type": "code",
   "source": "df['cvd'].value_counts()",
   "id": "3735a8a9a436bfab",
   "outputs": [],
   "execution_count": null
  },
  {
   "metadata": {},
   "cell_type": "code",
   "source": "df['cvd'].unique()",
   "id": "c9a91ce28af78401",
   "outputs": [],
   "execution_count": null
  },
  {
   "metadata": {},
   "cell_type": "code",
   "source": [
    "covars = ['Sex', 'Age', 'TDI', 'BMI',  'SBP', 'DBP', 'Glucose', 'HDLc', 'LDLc', 'TG', 'CHOL', 'smoking_healthy', 'alcohol_healthy']\n",
    "# df = df[['Eid', 'cluster_assign', 'insomnia_binary', 'cvd', 'time', 'event', 'time_censored'] + covars]"
   ],
   "id": "b96850c3091b4893",
   "outputs": [],
   "execution_count": null
  },
  {
   "metadata": {},
   "cell_type": "code",
   "source": "cvds = ['atrial_fibrillation', 'angina', 'chronic_artery_disease', 'peripheral_artery_disease', 'heart_failure', 'stroke', 'All_CVDs']",
   "id": "4057c1e3eaf7734f",
   "outputs": [],
   "execution_count": null
  },
  {
   "metadata": {},
   "cell_type": "code",
   "source": [
    "res_insomnia = np.zeros([len(cvds), 11])\n",
    "df_data = df.copy()\n",
    "for  i, cvd in enumerate(cvds):\n",
    "    print(cvd)\n",
    "    if cvd == 'All_CVDs':\n",
    "        df_data['time_cvd'] = df_data['time']\n",
    "        df_data['event_cvd'] = df_data['event']\n",
    "    else:\n",
    "        df_data['event_cvd'] = np.where(df_data['cvd'] == cvd, 1, 0)\n",
    "        df_data['time_cvd'] = np.where(df_data['cvd'] == cvd, df_data['time'], df_data['time_censored'])\n",
    "\n",
    "    cph = CoxPHFitter()\n",
    "    formula = 'insomnia_score + ' + ' + '.join(covars)\n",
    "    cph.fit(df_data, duration_col='time_cvd', event_col='event_cvd', formula=formula)\n",
    "    res_insomnia[i] = cph.summary.loc['insomnia_score'].values"
   ],
   "id": "f0d2ac8f892b09cf",
   "outputs": [],
   "execution_count": null
  },
  {
   "metadata": {},
   "cell_type": "code",
   "source": [
    "# HR for cluster 0 and cluster 1 in the case group, compared to the control group\n",
    "df_data = df[df['cluster_assign'] == 0].copy()\n",
    "res_cluster0 = np.zeros([len(cvds), 11])\n",
    "for  i, cvd in enumerate(cvds):\n",
    "    print(cvd)\n",
    "    if cvd == 'All_CVDs':\n",
    "        df_data['time_cvd'] = df_data['time']\n",
    "        df_data['event_cvd'] = df_data['event']\n",
    "    else:\n",
    "        df_data['event_cvd'] = np.where(df_data['cvd'] == cvd, 1, 0)\n",
    "        df_data['time_cvd'] = np.where(df_data['cvd'] == cvd, df_data['time'], df_data['time_censored'])\n",
    "    # print(pd.crosstab(df_data['event_cvd'], df_data['insomnia_score']))\n",
    "    cph = CoxPHFitter()\n",
    "    formula = 'insomnia_score + ' + ' + '.join(covars)\n",
    "    # formula = 'insomnia_score'\n",
    "    cph.fit(df_data, duration_col='time_cvd', event_col='event_cvd', formula=formula)\n",
    "    res_cluster0[i] = cph.summary.loc['insomnia_score'].values"
   ],
   "id": "8515b6db5ec0066",
   "outputs": [],
   "execution_count": null
  },
  {
   "metadata": {},
   "cell_type": "code",
   "source": [
    "df_data = df[df['cluster_assign'] == 1].copy()\n",
    "res_cluster1 = np.zeros([len(cvds), 11])\n",
    "for  i, cvd in enumerate(cvds):\n",
    "    print(cvd)\n",
    "    if cvd == 'All_CVDs':\n",
    "        df_data['time_cvd'] = df_data['time']\n",
    "        df_data['event_cvd'] = df_data['event']\n",
    "    else:\n",
    "        df_data['event_cvd'] = np.where(df_data['cvd'] == cvd, 1, 0)\n",
    "        df_data['time_cvd'] = np.where(df_data['cvd'] == cvd, df_data['time'], df_data['time_censored'])\n",
    "    cph = CoxPHFitter()\n",
    "    formula = 'insomnia_score + ' + ' + '.join(covars)\n",
    "    cph.fit(df_data, duration_col='time_cvd', event_col='event_cvd', formula=formula)\n",
    "    res_cluster1[i] = cph.summary.loc['insomnia_score'].values"
   ],
   "id": "3b8950f685bcb44e",
   "outputs": [],
   "execution_count": null
  },
  {
   "metadata": {},
   "cell_type": "code",
   "source": [
    "cols = cph.summary.columns.tolist()\n",
    "print(cols)"
   ],
   "id": "295f7c521b3cc969",
   "outputs": [],
   "execution_count": null
  },
  {
   "metadata": {},
   "cell_type": "code",
   "source": [
    "res_cluster0 = pd.DataFrame(res_cluster0, columns=cols)\n",
    "res_cluster0['CVD'] = cvds\n",
    "res_cluster0['Group'] = 'T+'\n",
    "res_cluster0 = res_cluster0[['Group', 'CVD'] + cols]\n",
    "res_cluster0['P_FDR'] = multitest.fdrcorrection(res_cluster0['p'], alpha=0.05, method='indep', is_sorted=False)[1]\n",
    "res_cluster1 = pd.DataFrame(res_cluster1, columns=cols)\n",
    "res_cluster1['CVD'] = cvds\n",
    "res_cluster1['Group'] = 'T-'\n",
    "res_cluster1 = res_cluster1[['Group', 'CVD'] + cols]\n",
    "res_cluster1['P_FDR'] = multitest.fdrcorrection(res_cluster1['p'], alpha=0.05, method='indep', is_sorted=False)[1]\n",
    "res_no_cluster = pd.DataFrame(res_insomnia, columns=cols)\n",
    "res_no_cluster['CVD'] = cvds\n",
    "res_no_cluster['Group'] = 'All'\n",
    "res_no_cluster = res_no_cluster[['Group', 'CVD'] + cols]\n",
    "res_no_cluster['P_FDR'] = multitest.fdrcorrection(res_no_cluster['p'], alpha=0.05, method='indep', is_sorted=False)[1]\n",
    "res_cluster = pd.concat([res_cluster0, res_cluster1, res_no_cluster], axis=0)\n",
    "res_cluster.sort_values(['CVD', 'Group'], ascending=True, inplace=True)"
   ],
   "id": "622094fa2cc29ea",
   "outputs": [],
   "execution_count": null
  },
  {
   "metadata": {},
   "cell_type": "code",
   "source": [
    "res_cluster.rename(columns={\n",
    "    'coef': 'beta',\n",
    "    'exp(coef)': 'HR',\n",
    "    'se(coef)': 'se (beta)',\n",
    "    'coef lower 95%': 'beta lower 95% CI',\n",
    "    'coef upper 95%': 'beta upper 95% CI',\n",
    "    'exp(coef) lower 95%': 'HR lower 95% CI',\n",
    "    'exp(coef) upper 95%': 'HR upper 95% CI',\n",
    "}, inplace=True)\n",
    "res_cluster.to_csv('results/hr_cvds.csv', index=False)"
   ],
   "id": "535f27fa6f8d69ad",
   "outputs": [],
   "execution_count": null
  },
  {
   "metadata": {},
   "cell_type": "code",
   "source": "",
   "id": "234689358443bda5",
   "outputs": [],
   "execution_count": null
  }
 ],
 "metadata": {
  "kernelspec": {
   "display_name": "Python 3",
   "language": "python",
   "name": "python3"
  },
  "language_info": {
   "codemirror_mode": {
    "name": "ipython",
    "version": 2
   },
   "file_extension": ".py",
   "mimetype": "text/x-python",
   "name": "python",
   "nbconvert_exporter": "python",
   "pygments_lexer": "ipython2",
   "version": "2.7.6"
  }
 },
 "nbformat": 4,
 "nbformat_minor": 5
}
