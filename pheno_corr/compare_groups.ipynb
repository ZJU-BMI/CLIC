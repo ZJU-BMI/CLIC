{
 "cells": [
  {
   "cell_type": "code",
   "id": "initial_id",
   "metadata": {
    "collapsed": true
   },
   "source": [
    "import numpy as np\n",
    "import pandas as pd\n",
    "from scipy import stats\n",
    "import os\n",
    "from utils import show_pvalue, mkdir_if_needed"
   ],
   "outputs": [],
   "execution_count": null
  },
  {
   "metadata": {},
   "cell_type": "code",
   "source": "res_path_root = 'results/non_insomnia'",
   "id": "a501fb5f33fb8bd2",
   "outputs": [],
   "execution_count": null
  },
  {
   "metadata": {},
   "cell_type": "code",
   "source": [
    "df = pd.read_csv(os.path.join('data', 'ukb_ecg_data_balanced_cluster.csv'))\n",
    "print(df.columns)\n",
    "res_path = f'{res_path_root}/compare_groups'\n",
    "os.makedirs(res_path, exist_ok=True)\n",
    "print(df['cluster_assign'].value_counts())"
   ],
   "id": "6246e248315b3a67",
   "outputs": [],
   "execution_count": null
  },
  {
   "metadata": {},
   "cell_type": "code",
   "source": [
    "df0 = df[df['insomnia_score'] == 0].copy() # control\n",
    "df1 = df[df['insomnia_score'] == 1].copy() # case\n",
    "print(df0['cluster_assign'].value_counts())\n",
    "print(df1['cluster_assign'].value_counts())"
   ],
   "id": "9a3e6605a02bfcff",
   "outputs": [],
   "execution_count": null
  },
  {
   "metadata": {},
   "cell_type": "code",
   "source": [
    "biomarkers = ['event', 'Sex', 'Age', 'TDI', 'BMI', 'SBP', 'DBP', 'CHOL', 'CRP', 'LDLc', 'HDLc', 'TG', 'Glucose', 'TyG', 'smoking_healthy', 'alcohol_healthy']\n",
    "mkdir_if_needed('results/compare_groups')\n",
    "df_biomaker_info = pd.read_csv('data/biomarkers_list.csv')\n",
    "df_biomaker_info = df_biomaker_info[['Biomarker', 'Field', 'Units']]\n",
    "# add field and units for age and sex\n",
    "df_biomaker_info.loc[len(df_biomaker_info.index)] = ['Age', 'Age', 'years']\n",
    "df_biomaker_info.loc[len(df_biomaker_info.index)] = ['Sex', 'Sex (Female %)', '%']\n",
    "df_biomaker_info.loc[len(df_biomaker_info.index)] = ['TDI', 'Townsend Deprivation Index', '/']\n",
    "df_biomaker_info.loc[len(df_biomaker_info.index)] = ['smoking_healthy', 'Smoking healthy (1 not smoked)', '%']\n",
    "df_biomaker_info.loc[len(df_biomaker_info.index)] = ['alcohol_healthy', 'Alcohol drinking Healthy (1 not drunk)', '%']\n",
    "df_biomaker_info.loc[len(df_biomaker_info.index)] = ['TyG', 'Triglyceride-glucose index', '/']\n",
    "df_biomaker_info.loc[len(df_biomaker_info.index)] = ['event', 'CVD events', '1: Yes, 0: No']"
   ],
   "id": "2feca5bfb37c6a6d",
   "outputs": [],
   "execution_count": null
  },
  {
   "metadata": {},
   "cell_type": "code",
   "source": [
    "def compare_two_groups(g1, g2, g1_name, g2_name, save_name):\n",
    "    df_biomarker_comp_2subtypes = pd.DataFrame(columns=['Biomarker', g1_name, g2_name, 'p-value'])\n",
    "    for biomarker in biomarkers:\n",
    "        # print(biomarker)\n",
    "        mean0 = g1[biomarker].mean()\n",
    "        mean1 = g2[biomarker].mean()\n",
    "        if biomarker in ['Sex', 'smoking_healthy', 'alcohol_healthy']:\n",
    "            # convert to percentage of female\n",
    "            mean0 = 100 - mean0 * 100\n",
    "            mean1 = 100 - mean1 * 100\n",
    "        if biomarker == 'event':\n",
    "            mean0 = g1[biomarker].sum()\n",
    "            mean1 = g2[biomarker].sum()\n",
    "        # p-value for 2-sample t-test\n",
    "        p = stats.ttest_ind(g1[biomarker].dropna(), g2[biomarker].dropna())[1]\n",
    "        df_biomarker_comp_2subtypes.loc[len(df_biomarker_comp_2subtypes)] = [biomarker, f'{mean0:.2f}', f'{mean1:.2f}', show_pvalue(p)]\n",
    "\n",
    "    df_biomarker_comp_2subtypes = df_biomarker_comp_2subtypes.merge(df_biomaker_info[['Biomarker', 'Field', 'Units']], on='Biomarker', how='left')\n",
    "    # reorder columns\n",
    "    df_biomarker_comp_2subtypes = df_biomarker_comp_2subtypes[['Biomarker', 'Field', 'Units', g1_name, g2_name, 'p-value']]\n",
    "    df_biomarker_comp_2subtypes.to_csv(os.path.join(res_path, save_name), index=False)\n",
    "    return df_biomarker_comp_2subtypes"
   ],
   "id": "9a4eda7a3aa6c110",
   "outputs": [],
   "execution_count": null
  },
  {
   "metadata": {},
   "cell_type": "code",
   "source": [
    "g1 = df[df['insomnia_score'] == 0]\n",
    "g2 = df[df['insomnia_score'] == 1]\n",
    "N_cluster0, N_cluster1 = g1.shape[0], g2.shape[0]\n",
    "compare_two_groups(g1, g2, f'Insomnia (N={N_cluster0:,})', f'Non_insomnia (N={N_cluster1:,})', 'comp_case_control.csv')"
   ],
   "id": "113b7f52be6b02ff",
   "outputs": [],
   "execution_count": null
  },
  {
   "metadata": {},
   "cell_type": "code",
   "source": [
    "g1 = df[df['cluster_assign'] == 0]\n",
    "g2 = df[df['cluster_assign'] == 1]\n",
    "N_cluster0, N_cluster1 = g1.shape[0], g2.shape[0]\n",
    "compare_two_groups(g1, g2, f'T+ (N={N_cluster0:,})', f'T- (N={N_cluster1:,})', 'comp_2subtypes.csv')"
   ],
   "id": "d53ad7cb5f64eba6",
   "outputs": [],
   "execution_count": null
  },
  {
   "metadata": {},
   "cell_type": "code",
   "source": [
    "# compare two subtypes in control group\n",
    "g1 = df0[df0['cluster_assign'] == 0]\n",
    "g2 = df0[df0['cluster_assign'] == 1]\n",
    "N_cluster0, N_cluster1 = g1.shape[0], g2.shape[0]\n",
    "compare_two_groups(g1, g2, f'T+ (N={N_cluster0:,})', f'T- (N={N_cluster1:,})', 'comp_2subtype_control.csv')"
   ],
   "id": "a8b6bd52fd4ae358",
   "outputs": [],
   "execution_count": null
  },
  {
   "metadata": {},
   "cell_type": "code",
   "source": [
    "# compare two subtypes in case group\n",
    "g1 = df1[df1['cluster_assign'] == 0]\n",
    "g2 = df1[df1['cluster_assign'] == 1]\n",
    "N_cluster0, N_cluster1 = g1.shape[0], g2.shape[0]\n",
    "compare_two_groups(g1, g2, f'T+ (N={N_cluster0:,})', f'T- (N={N_cluster1:,})', 'comp_2subtype_cases.csv')"
   ],
   "id": "c4c69231d4b1a14e",
   "outputs": [],
   "execution_count": null
  },
  {
   "metadata": {},
   "cell_type": "code",
   "source": [
    "# compare two subtypes seperated by sex\n",
    "g1 = df[((df['cluster_assign'] == 0) & (df['Sex'] == 0))]\n",
    "g2 = df[((df['cluster_assign'] == 1) & (df['Sex'] == 0))]\n",
    "N_cluster0, N_cluster1 = g1.shape[0], g2.shape[0]\n",
    "print(N_cluster0, N_cluster1)\n",
    "compare_two_groups(g1, g2, f'Female T+ (N={N_cluster0:,})', f'Female T- (N={N_cluster1:,})', 'comp_2subtype_female.csv')"
   ],
   "id": "4fe4c28c7f52859b",
   "outputs": [],
   "execution_count": null
  },
  {
   "metadata": {},
   "cell_type": "code",
   "source": [
    "# compare two subtypes seperated by sex\n",
    "g1 = df[((df['cluster_assign'] == 0) & (df['Sex'] == 1))]\n",
    "g2 = df[((df['cluster_assign'] == 1) & (df['Sex'] == 1))]\n",
    "N_cluster0, N_cluster1 = g1.shape[0], g2.shape[0]\n",
    "print(N_cluster0, N_cluster1)\n",
    "compare_two_groups(g1, g2, f'Male T+ (N={N_cluster0:,})', f'Male T- (N={N_cluster1:,})', 'comp_2subtype_male.csv')"
   ],
   "id": "d026393076658ffa",
   "outputs": [],
   "execution_count": null
  },
  {
   "metadata": {},
   "cell_type": "code",
   "source": [
    "df_left = pd.read_csv('data/ukb_ecg_data_left_cluster.csv')\n",
    "df_left['TyG'] = np.log(df_left['Glucose'] * 88.57 * df_left['TG'] * 18 / 2)\n",
    "df_left['propensity_score'] = -1 # placeholder for propensity score\n",
    "df_left = df_left[df.columns]\n",
    "df_all = pd.concat([df, df_left], ignore_index=True)\n",
    "df_all.to_csv('data/ukb_ecg_data_all_cluster.csv', index=False)"
   ],
   "id": "91bb219073198f9a",
   "outputs": [],
   "execution_count": null
  },
  {
   "metadata": {},
   "cell_type": "code",
   "source": [
    "g1 = df_all[df_all['insomnia_score'] == 0]\n",
    "g2 = df_all[df_all['insomnia_score'] == 1]\n",
    "N_cluster0, N_cluster1 = g1.shape[0], g2.shape[0]\n",
    "compare_two_groups(g1, g2, f'Insomnia (N={N_cluster0:,})', f'Non_insomnia (N={N_cluster1:,})', 'comp_case_control_all.csv')"
   ],
   "id": "2328a342d35b403d",
   "outputs": [],
   "execution_count": null
  },
  {
   "metadata": {},
   "cell_type": "code",
   "source": [
    "# compare insomnia and non-insomnia groups in T+ subgroup\n",
    "g1 = df0[df0['cluster_assign'] == 0] # insomnia T+\n",
    "g2 = df1[df1['cluster_assign'] == 0] # non-insomnia T+\n",
    "N_cluster0, N_cluster1 = g1.shape[0], g2.shape[0]\n",
    "compare_two_groups(g1, g2, f'Insomnia T+ (N={N_cluster0:,})', f'Non_insomnia T+ (N={N_cluster1:,})', 'comp_case_control_Tplus.csv')"
   ],
   "id": "b2671eaf819d7db2",
   "outputs": [],
   "execution_count": null
  },
  {
   "metadata": {},
   "cell_type": "code",
   "source": [
    "# compare insomnia and non-insomnia groups in T- subgroup\n",
    "g1 = df0[df0['cluster_assign'] == 1] # insomnia T-\n",
    "g2 = df1[df1['cluster_assign'] == 1] # non-insomnia T-\n",
    "N_cluster0, N_cluster1 = g1.shape[0], g2.shape[0]\n",
    "compare_two_groups(g1, g2, f'Insomnia T- (N={N_cluster0:,})', f'Non_insomnia T- (N={N_cluster1:,})', 'comp_case_control_Tminus.csv')"
   ],
   "id": "1defe1e6ce0c6237",
   "outputs": [],
   "execution_count": null
  },
  {
   "metadata": {},
   "cell_type": "code",
   "source": "",
   "id": "9cf3a9479b71b676",
   "outputs": [],
   "execution_count": null
  }
 ],
 "metadata": {
  "kernelspec": {
   "display_name": "Python 3",
   "language": "python",
   "name": "python3"
  },
  "language_info": {
   "codemirror_mode": {
    "name": "ipython",
    "version": 2
   },
   "file_extension": ".py",
   "mimetype": "text/x-python",
   "name": "python",
   "nbconvert_exporter": "python",
   "pygments_lexer": "ipython2",
   "version": "2.7.6"
  }
 },
 "nbformat": 4,
 "nbformat_minor": 5
}
