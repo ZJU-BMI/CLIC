{
 "cells": [
  {
   "cell_type": "code",
   "id": "initial_id",
   "metadata": {
    "collapsed": true
   },
   "source": [
    "import os.path\n",
    "\n",
    "import pandas as pd\n",
    "import numpy as np\n",
    "import xml.etree.ElementTree as ET\n",
    "from tqdm import tqdm\n",
    "from scipy.stats import ttest_ind"
   ],
   "outputs": [],
   "execution_count": null
  },
  {
   "metadata": {},
   "cell_type": "code",
   "source": [
    "sample_data = '/mnt/data/ukb_heartmri/ukb_20205/1000134_20205_2_0.xml'\n",
    "ecg_xml_path = '/mnt/data/ukb_heartmri/ukb_20205/'"
   ],
   "id": "be8d7bf9f400384a",
   "outputs": [],
   "execution_count": null
  },
  {
   "metadata": {},
   "cell_type": "code",
   "source": [
    "def extract_qt_intervals(xml_path):\n",
    "    tree = ET.parse(xml_path)\n",
    "    root = tree.getroot()\n",
    "    # get BPM, PQInterval, PDuration, QRSDuration, QTInterval, QTCInterval, RRInterval, PPInterval\n",
    "    bpm = root.find('.//VentricularRate')\n",
    "    pqi = root.find('.//PQInterval')\n",
    "    pdur = root.find('.//PDuration')\n",
    "\n",
    "    qt = root.find('.//QTInterval')\n",
    "    qtc = root.find('.//QTCInterval')\n",
    "    qrs = root.find('.//QRSDuration')\n",
    "    rr = root.find('.//RRInterval')\n",
    "    pp = root.find('.//PPInterval')\n",
    "\n",
    "    bpm_val = int(bpm.text) if bpm is not None and bpm.text else None\n",
    "    pqi_val = int(pqi.text) if pqi is not None and pqi.text else None\n",
    "    pdur_val = int(pdur.text) if pdur is not None and pdur.text else None\n",
    "    qt_val = int(qt.text) if qt is not None and qt.text else None\n",
    "    qtc_val = int(qtc.text) if qtc is not None and qtc.text else None\n",
    "    qrs_val = int(qrs.text) if qrs is not None and qrs.text else None\n",
    "    rr_val = int(rr.text) if rr is not None and rr.text else None\n",
    "    pp_val = int(pp.text) if pp is not None and pp.text else None\n",
    "\n",
    "    return_dict = {\n",
    "        'BPM': bpm_val,\n",
    "        'PQInterval': pqi_val,\n",
    "        'PDuration': pdur_val,\n",
    "        'QRSDuration': qrs_val,\n",
    "        'QTInterval': qt_val,\n",
    "        'QTCInterval': qtc_val,\n",
    "        'RRInterval': rr_val,\n",
    "        'PPInterval': pp_val\n",
    "    }\n",
    "\n",
    "    return return_dict\n",
    "extract_qt_intervals(sample_data)"
   ],
   "id": "b614b2a46aaac82b",
   "outputs": [],
   "execution_count": null
  },
  {
   "metadata": {},
   "cell_type": "code",
   "source": "df = pd.read_csv('data/ukb_ecg_data.csv')",
   "id": "e821063ae098165c",
   "outputs": [],
   "execution_count": null
  },
  {
   "metadata": {},
   "cell_type": "code",
   "source": [
    "eids = df['Eid'].values\n",
    "if not os.path.exists('data/ukb_ecg_stats.csv'):\n",
    "    ecg_stats = {\n",
    "        'BPM': [],\n",
    "        'PQInterval': [],\n",
    "        'PDuration': [],\n",
    "        'QRSDuration': [],\n",
    "        'QTInterval': [],\n",
    "        'QTCInterval': [],\n",
    "        'RRInterval': [],\n",
    "        'PPInterval': []\n",
    "    }\n",
    "\n",
    "    for eid in tqdm(eids):\n",
    "        ecg_xml = os.path.join(ecg_xml_path, str(eid) + '_20205_2_0.xml')\n",
    "        if not os.path.exists(ecg_xml):\n",
    "            print(f'File not found for Eid {eid}')\n",
    "            for key in ecg_stats.keys():\n",
    "                ecg_stats[key].append(np.nan)\n",
    "        else:\n",
    "            ecg_res = extract_qt_intervals(ecg_xml)\n",
    "            for key in ecg_stats.keys():\n",
    "                ecg_stats[key].append(ecg_res[key])\n",
    "\n",
    "    df_res = pd.DataFrame({\n",
    "        'Eid': eids,\n",
    "        'BPM': ecg_stats['BPM'],\n",
    "        'PQInterval': ecg_stats['PQInterval'],\n",
    "        'PDuration': ecg_stats['PDuration'],\n",
    "        'QRSDuration': ecg_stats['QRSDuration'],\n",
    "        'QTInterval': ecg_stats['QTInterval'],\n",
    "        'QTCInterval': ecg_stats['QTCInterval'],\n",
    "        'RRInterval': ecg_stats['RRInterval'],\n",
    "        'PPInterval': ecg_stats['PPInterval']\n",
    "    })\n",
    "    df_res.to_csv('data/ukb_ecg_stats.csv', index=False)\n",
    "else:\n",
    "    df_res = pd.read_csv('data/ukb_ecg_stats.csv')"
   ],
   "id": "60ad8af7a6342c18",
   "outputs": [],
   "execution_count": null
  }
 ],
 "metadata": {
  "kernelspec": {
   "display_name": "Python 3",
   "language": "python",
   "name": "python3"
  },
  "language_info": {
   "codemirror_mode": {
    "name": "ipython",
    "version": 2
   },
   "file_extension": ".py",
   "mimetype": "text/x-python",
   "name": "python",
   "nbconvert_exporter": "python",
   "pygments_lexer": "ipython2",
   "version": "2.7.6"
  }
 },
 "nbformat": 4,
 "nbformat_minor": 5
}
