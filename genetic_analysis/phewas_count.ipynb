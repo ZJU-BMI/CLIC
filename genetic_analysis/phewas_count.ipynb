{
 "cells": [
  {
   "cell_type": "code",
   "id": "initial_id",
   "metadata": {
    "collapsed": true
   },
   "source": [
    "import pandas as pd\n",
    "import numpy as np\n",
    "import matplotlib.pyplot as plt\n",
    "import seaborn as sns"
   ],
   "outputs": [],
   "execution_count": null
  },
  {
   "metadata": {},
   "cell_type": "code",
   "source": [
    "df1 = pd.read_csv('results/PheWAS/gwas_catalog/phewas_gwas_catalog_refined.csv')\n",
    "df2 = pd.read_csv('results/PheWAS/gwas_altas/gwas_altas_sig.csv')\n",
    "df2.rename(columns={'P-value':'P'}, inplace=True)\n",
    "df1 = df1[['snp', 'PMID', 'Trait_category', 'Trait', 'P', 'Domain']]\n",
    "df2 = df2[['snp', 'PMID', 'Trait_category', 'Trait', 'P', 'Domain']]\n",
    "# concat\n",
    "df = pd.concat([df1, df2], ignore_index=True)"
   ],
   "id": "220337026adfa030",
   "outputs": [],
   "execution_count": null
  },
  {
   "metadata": {},
   "cell_type": "code",
   "source": "df = df.drop_duplicates(subset=['snp', 'PMID', 'Trait_category'], keep='first')",
   "id": "55cf9e53a5568241",
   "outputs": [],
   "execution_count": null
  },
  {
   "metadata": {},
   "cell_type": "code",
   "source": [
    "# count the number of unique traits\n",
    "trait_counts = df['Trait_category'].value_counts().reset_index(drop=False)\n",
    "print(trait_counts)\n",
    "trait_counts.to_csv('results/PheWAS/trait_counts.csv', index=False)"
   ],
   "id": "2c5c34419537b338",
   "outputs": [],
   "execution_count": null
  },
  {
   "metadata": {},
   "cell_type": "code",
   "source": [
    "# Plotting the number of unique traits per category more than 3 associations\n",
    "traits = trait_counts[trait_counts['count'] >= 3]['Trait_category'].tolist()\n",
    "df_filtered = df[df['Trait_category'].isin(traits)]"
   ],
   "id": "63ba80d7a4e60459",
   "outputs": [],
   "execution_count": null
  },
  {
   "metadata": {},
   "cell_type": "code",
   "source": [
    "fig, ax = plt.subplots(figsize=(7, 10))\n",
    "sns.countplot(data=df_filtered, y='Trait_category', order=df_filtered['Trait_category'].value_counts().index, ax=ax, color='#e76d2a')\n",
    "ax.set_xlabel('Number of associations', fontsize=18, fontweight='bold')\n",
    "ax.set_ylabel('', fontsize=18)\n",
    "# Set the font size for the tick labels\n",
    "ax.tick_params(axis='both', labelsize=15)\n",
    "# REMOVE GRIDLINES\n",
    "ax.grid(False)\n",
    "\n",
    "ax.set_title('', fontsize=18, fontweight='bold')\n",
    "# background color none\n",
    "ax.set_facecolor('white')\n",
    "# spines color black, linewidth 3\n",
    "for spine in ax.spines.values():\n",
    "    spine.set_color('black')\n",
    "    spine.set_linewidth(3)\n",
    "# remove top and right spines\n",
    "ax.spines['top'].set_visible(False)\n",
    "ax.spines['right'].set_visible(False)\n",
    "plt.tight_layout()\n",
    "plt.savefig('results/PheWAS/trait_counts_plot.pdf', dpi=300, bbox_inches='tight', )"
   ],
   "id": "ff47e8a7979908fa",
   "outputs": [],
   "execution_count": null
  },
  {
   "metadata": {},
   "cell_type": "code",
   "source": "",
   "id": "cf39d84637c32a50",
   "outputs": [],
   "execution_count": null
  }
 ],
 "metadata": {
  "kernelspec": {
   "display_name": "Python 3",
   "language": "python",
   "name": "python3"
  },
  "language_info": {
   "codemirror_mode": {
    "name": "ipython",
    "version": 2
   },
   "file_extension": ".py",
   "mimetype": "text/x-python",
   "name": "python",
   "nbconvert_exporter": "python",
   "pygments_lexer": "ipython2",
   "version": "2.7.6"
  }
 },
 "nbformat": 4,
 "nbformat_minor": 5
}
