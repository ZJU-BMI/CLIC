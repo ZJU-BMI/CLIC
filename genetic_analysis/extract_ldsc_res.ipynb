{
 "cells": [
  {
   "cell_type": "code",
   "id": "initial_id",
   "metadata": {
    "collapsed": true,
    "ExecuteTime": {
     "end_time": "2025-05-31T07:28:09.571388Z",
     "start_time": "2025-05-31T07:28:08.727461Z"
    }
   },
   "source": [
    "import os\n",
    "import pandas as pd\n",
    "import numpy as np\n",
    "# fdr correction\n",
    "from statsmodels.stats.multitest import multipletests"
   ],
   "outputs": [],
   "execution_count": 1
  },
  {
   "metadata": {
    "ExecuteTime": {
     "end_time": "2025-05-31T07:28:14.905080Z",
     "start_time": "2025-05-31T07:28:14.902036Z"
    }
   },
   "cell_type": "code",
   "source": [
    "def read_ldsc_res(pheno1, phenos, res_path):\n",
    "    results = []\n",
    "    header = None\n",
    "    for i, p in enumerate(phenos):\n",
    "        print('reading genetic correlation results', pheno1, p)\n",
    "        # file path\n",
    "        file_path = os.path.join(res_path, f'{p}_{pheno1}_rg.log')\n",
    "        with open(file_path, 'r') as f:\n",
    "            lines = f.readlines()\n",
    "            if i == 0:\n",
    "                # line 61 as header\n",
    "                headline = lines[-5]\n",
    "                # remove '\\n'\n",
    "                headline = headline.strip()\n",
    "            # read line 62\n",
    "            resline = lines[-4]\n",
    "            # remove '\\n'\n",
    "            resline = resline.strip()\n",
    "\n",
    "        # split\n",
    "        header = headline.split()\n",
    "        res = resline.split()\n",
    "        # repalce 'NA' with np.nan\n",
    "        res = [np.nan if x == 'NA' else x for x in res]\n",
    "        results.append(res)\n",
    "\n",
    "    # convert to dataframe, set column type: first two columns as string, others as float\n",
    "    df = pd.DataFrame(results, columns=header)\n",
    "    # set first two columns as string, others as float\n",
    "    df.iloc[:, 0:2] = df.iloc[:, 0:2].astype(str)\n",
    "    df.iloc[:, 2:] = df.iloc[:, 2:].astype(float)\n",
    "    return df"
   ],
   "id": "123f6b00467a0355",
   "outputs": [],
   "execution_count": 2
  },
  {
   "cell_type": "code",
   "source": [
    "df_dis_summary = pd.read_csv('gwas_data/cvd_gwas.csv')\n",
    "diseases = df_dis_summary['pheno'].tolist()"
   ],
   "metadata": {
    "collapsed": false,
    "ExecuteTime": {
     "end_time": "2025-05-31T07:28:26.775026Z",
     "start_time": "2025-05-31T07:28:26.767685Z"
    }
   },
   "id": "4fe0a6b953c8a07c",
   "outputs": [],
   "execution_count": 3
  },
  {
   "cell_type": "code",
   "source": "df_disease = read_ldsc_res('ecg_noninsonmia', diseases, res_path='results/ldsc/')",
   "metadata": {
    "collapsed": false,
    "ExecuteTime": {
     "end_time": "2025-05-31T07:28:30.402417Z",
     "start_time": "2025-05-31T07:28:30.394205Z"
    }
   },
   "id": "bf598331d6acc9e7",
   "outputs": [
    {
     "name": "stdout",
     "output_type": "stream",
     "text": [
      "reading genetic correlation results ecg_noninsonmia Atrial_fibrillation\n",
      "reading genetic correlation results ecg_noninsonmia Angina\n",
      "reading genetic correlation results ecg_noninsonmia Chronic_artery_disease\n",
      "reading genetic correlation results ecg_noninsonmia Heart_failure\n",
      "reading genetic correlation results ecg_noninsonmia Stroke\n",
      "reading genetic correlation results ecg_noninsonmia Peripheral_artery_disease\n"
     ]
    }
   ],
   "execution_count": 4
  },
  {
   "cell_type": "code",
   "source": [
    "# rename columns\n",
    "# copy\n",
    "df_disease['path1'] = df_disease['p1']\n",
    "df_disease['path2'] = df_disease['p2']\n",
    "# replace\n",
    "df_disease['p1'] = 'T+'\n",
    "df_disease['p2'] = df_disease['path2'].apply(lambda x: x.split('/')[-1].split('.')[0])\n",
    "# drop path1 and path2\n",
    "df_disease.drop(['path1', 'path2'], axis=1, inplace=True)\n",
    "# nan to 1\n",
    "df_disease.fillna({'p': 1}, inplace=True)"
   ],
   "metadata": {
    "collapsed": false,
    "ExecuteTime": {
     "end_time": "2025-05-31T07:28:43.943352Z",
     "start_time": "2025-05-31T07:28:43.927609Z"
    }
   },
   "id": "c03d0100a4495b50",
   "outputs": [
    {
     "name": "stderr",
     "output_type": "stream",
     "text": [
      "/var/folders/n1/xc1rxmy97s3fpm1yn037pb4m0000gn/T/ipykernel_64247/1140586359.py:11: FutureWarning: Downcasting object dtype arrays on .fillna, .ffill, .bfill is deprecated and will change in a future version. Call result.infer_objects(copy=False) instead. To opt-in to the future behavior, set `pd.set_option('future.no_silent_downcasting', True)`\n",
      "  df_disease['p'] = df_disease['p'].copy().fillna(1)\n"
     ]
    }
   ],
   "execution_count": 5
  },
  {
   "cell_type": "code",
   "source": [
    "# fdr correction for each subtype\n",
    "df_disease['P_FDR'] = multipletests(df_disease['p'].values, method='fdr_bh')[1]\n",
    "df_disease['Sig_note_FDR'] = df_disease['P_FDR'].apply(lambda x: 'p.adj < 0.05' if x < 0.05 else 'NS' )\n",
    "# save\n",
    "df_disease.to_csv('results/rg_cvds.csv', index=False, na_rep='NA')"
   ],
   "metadata": {
    "collapsed": false,
    "ExecuteTime": {
     "end_time": "2025-05-31T07:29:00.641698Z",
     "start_time": "2025-05-31T07:29:00.621006Z"
    }
   },
   "id": "24344abf424b6681",
   "outputs": [],
   "execution_count": 6
  },
  {
   "cell_type": "code",
   "source": "",
   "metadata": {
    "collapsed": false,
    "ExecuteTime": {
     "end_time": "2025-05-24T08:15:51.820016Z",
     "start_time": "2025-05-24T08:15:51.818166Z"
    }
   },
   "id": "dc34c984a257722d",
   "outputs": [],
   "execution_count": null
  },
  {
   "cell_type": "code",
   "source": "",
   "metadata": {
    "collapsed": false,
    "ExecuteTime": {
     "end_time": "2025-05-24T08:15:51.875440Z",
     "start_time": "2025-05-24T08:15:51.874018Z"
    }
   },
   "id": "80caaa02b5ba8acc",
   "outputs": [],
   "execution_count": null
  },
  {
   "cell_type": "code",
   "source": [],
   "metadata": {
    "collapsed": false,
    "ExecuteTime": {
     "end_time": "2025-05-24T08:15:51.935715Z",
     "start_time": "2025-05-24T08:15:51.933262Z"
    }
   },
   "id": "b46ba52b80ce71da",
   "outputs": [],
   "execution_count": null
  }
 ],
 "metadata": {
  "kernelspec": {
   "display_name": "Python 3",
   "language": "python",
   "name": "python3"
  },
  "language_info": {
   "codemirror_mode": {
    "name": "ipython",
    "version": 2
   },
   "file_extension": ".py",
   "mimetype": "text/x-python",
   "name": "python",
   "nbconvert_exporter": "python",
   "pygments_lexer": "ipython2",
   "version": "2.7.6"
  }
 },
 "nbformat": 4,
 "nbformat_minor": 5
}
