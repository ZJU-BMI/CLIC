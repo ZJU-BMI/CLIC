{
 "cells": [
  {
   "cell_type": "code",
   "id": "initial_id",
   "metadata": {
    "collapsed": true,
    "ExecuteTime": {
     "end_time": "2025-07-04T10:05:32.963357Z",
     "start_time": "2025-07-04T10:05:32.961449Z"
    }
   },
   "source": [
    "import numpy as np\n",
    "import pandas as pd\n",
    "import matplotlib.pyplot as plt\n",
    "import seaborn as sns\n",
    "import os\n",
    "plt.rcParams['font.family'] = 'Helvetica'"
   ],
   "outputs": [],
   "execution_count": 1
  },
  {
   "metadata": {
    "ExecuteTime": {
     "end_time": "2025-07-04T10:05:33.153443Z",
     "start_time": "2025-07-04T10:05:33.141447Z"
    }
   },
   "cell_type": "code",
   "source": [
    "df_tsea = pd.read_csv('results/magma_exp_gtex_v8_ts_avg_log2TPM.gsa.out',\n",
    "                      sep=r'\\s+', comment='#')\n",
    "df_tsea['log10p'] = -np.log10(df_tsea['P'])\n",
    "# sort by log10p\n",
    "df_tsea = df_tsea.sort_values(by='log10p', ascending=False)\n",
    "df_tsea['BonfP'] = df_tsea['P'] * df_tsea.shape[0]\n",
    "sig_thres = -np.log10(0.05 / df_tsea.shape[0])\n",
    "df_tsea['sig'] = (df_tsea['log10p'] > sig_thres).astype(int)\n",
    "# replavce FULL_NAME \"_\" with \" \"\n",
    "df_tsea['FULL_NAME'] = df_tsea['FULL_NAME'].str.replace('_', ' ')"
   ],
   "id": "fa34074823c41431",
   "outputs": [],
   "execution_count": 2
  },
  {
   "metadata": {},
   "cell_type": "code",
   "source": [
    "fig, ax = plt.subplots(figsize=(6, 15))\n",
    "# barplot, no spacing between bars\n",
    "sns.barplot(x='log10p', y='FULL_NAME', data=df_tsea, ax=ax, hue='sig',\n",
    "            palette={0: 'blue', 1: '#D6101E'}, dodge=False, edgecolor='gray',\n",
    "            width=0.9,\n",
    "            linewidth=0.5, saturation=0.8)\n",
    "sns.despine()\n",
    "ax.grid(False)\n",
    "ax.set_xlabel(r'$-log_{10}(P)$', fontsize=20)\n",
    "ax.set_ylabel('')\n",
    "ax.tick_params(axis='x', labelsize=18, width=1.5, pad=3)\n",
    "ax.tick_params(axis='y', labelsize=15)\n",
    "ax.set_title('', fontsize=24)\n",
    "# remove legend\n",
    "ax.legend_.remove()\n",
    "# add bonferroni threshold line\n",
    "ax.axvline(x=sig_thres, color='gray', linestyle='--', label='Bonferroni threshold')\n",
    "for spine in ['left', 'bottom']:\n",
    "    ax.spines[spine].set_linewidth(1.5)\n",
    "    ax.spines[spine].set_color('gray')\n",
    "plt.savefig('results/tsea_plot.jpg', dpi=300, facecolor='white', bbox_inches='tight')"
   ],
   "id": "14ee361ca8256d21",
   "outputs": [],
   "execution_count": null
  },
  {
   "metadata": {},
   "cell_type": "code",
   "source": [
    "fig, ax = plt.subplots(figsize=(8, 15))\n",
    "# barplot, no spacing between bars\n",
    "sns.barplot(x='log10p', y='FULL_NAME', data=df_tsea.iloc[0:25,], ax=ax, hue='sig',\n",
    "            palette={0: 'blue', 1: '#D6101E'}, dodge=False, edgecolor='gray',\n",
    "            width=0.9,\n",
    "            linewidth=0.5, saturation=0.8)\n",
    "sns.despine()\n",
    "ax.grid(False)\n",
    "ax.set_xlabel('', fontsize=20)\n",
    "ax.set_ylabel('')\n",
    "ax.set_yticklabels([])\n",
    "ax.set_xticklabels([])\n",
    "ax.set_title('', fontsize=24)\n",
    "# remove legend\n",
    "ax.legend_.remove()\n",
    "# add bonferroni threshold line\n",
    "# ax.axvline(x=sig_thres, color='gray', linestyle='--', label='Bonferroni threshold')\n",
    "for spine in ['left', 'bottom']:\n",
    "    ax.spines[spine].set_linewidth(2)\n",
    "    ax.spines[spine].set_color('black')\n",
    "plt.savefig('results/tsea_plot_no_text.jpg', dpi=300, facecolor='white', bbox_inches='tight')"
   ],
   "id": "f363bb401effd0f3",
   "outputs": [],
   "execution_count": null
  },
  {
   "metadata": {},
   "cell_type": "code",
   "outputs": [],
   "execution_count": null,
   "source": "",
   "id": "d25769a38f7197ea"
  }
 ],
 "metadata": {
  "kernelspec": {
   "display_name": "Python 3",
   "language": "python",
   "name": "python3"
  },
  "language_info": {
   "codemirror_mode": {
    "name": "ipython",
    "version": 2
   },
   "file_extension": ".py",
   "mimetype": "text/x-python",
   "name": "python",
   "nbconvert_exporter": "python",
   "pygments_lexer": "ipython2",
   "version": "2.7.6"
  }
 },
 "nbformat": 4,
 "nbformat_minor": 5
}
