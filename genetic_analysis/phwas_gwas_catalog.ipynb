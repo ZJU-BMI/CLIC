{
 "cells": [
  {
   "cell_type": "code",
   "id": "initial_id",
   "metadata": {
    "collapsed": true
   },
   "source": [
    "import pandas as pd\n",
    "import numpy as np"
   ],
   "outputs": [],
   "execution_count": null
  },
  {
   "metadata": {},
   "cell_type": "code",
   "source": [
    "df1 = pd.read_csv('results/PheWAS/gwas_catalog/gwascatalog.tsv', sep='\\t')\n",
    "df2 = pd.read_csv('results/PheWAS/gwas_catalog/gwascatalog2.tsv', sep='\\t')"
   ],
   "id": "28df9aa0a6caabca",
   "outputs": [],
   "execution_count": null
  },
  {
   "metadata": {},
   "cell_type": "code",
   "source": "print(df1.columns)",
   "id": "e7b3292ef297ba3d",
   "outputs": [],
   "execution_count": null
  },
  {
   "metadata": {},
   "cell_type": "code",
   "source": "print(df2.columns)",
   "id": "62da198b8bd3fd51",
   "outputs": [],
   "execution_count": null
  },
  {
   "metadata": {},
   "cell_type": "code",
   "source": [
    "df2_new = df2.rename(columns={\n",
    "    'PUBMEDID': 'PMID',\n",
    "    'DATE ADDED TO CATALOG': 'DateAddedToCatalog',\n",
    "    'FIRST AUTHOR': 'FirstAuth',\n",
    "    'DATE': 'Date',\n",
    "    'JOURNAL': 'Journal',\n",
    "    'LINK': 'Link',\n",
    "    'STUDY': 'Study',\n",
    "    'DISEASE/TRAIT': 'Trait',\n",
    "    'INITIAL SAMPLE SIZE': 'InitialN',\n",
    "    'REPLICATION SAMPLE SIZE': 'ReplicationN',\n",
    "    'REGION': 'Region',\n",
    "    'CHR_ID': 'chr',\n",
    "    'CHR_POS': 'bp',\n",
    "    'SNPS': 'snp',\n",
    "    'REPORTED GENE(S)': 'ReportedGene',\n",
    "    'MAPPED_GENE': 'MappedGene',\n",
    "    'MAPPED_TRAIT': 'MappedTrait',\n",
    "    'P-VALUE': 'P',\n",
    "    'OR or BETA': 'OrBeta',\n",
    "    '95% CI (TEXT)': '95CI',\n",
    "    'RISK ALLELE FREQUENCY': 'RiskAF',\n",
    "    'PLATFORM [SNPS PASSING QC]': 'Platform',\n",
    "})\n",
    "df2_new['IndSigSNP'] = df2_new['snp']"
   ],
   "id": "c53a80545eb36e0e",
   "outputs": [],
   "execution_count": null
  },
  {
   "metadata": {},
   "cell_type": "code",
   "source": [
    "# concatenate the two dataframes\n",
    "df1_new = df1[['snp', 'IndSigSNP', 'Trait', 'Region', 'chr', 'bp', 'P', 'ReportedGene', 'MappedGene',\n",
    "               'Date', 'DateAddedToCatalog', 'PMID', 'FirstAuth',  'Journal', 'Link',\n",
    "               'Study', 'InitialN', 'ReplicationN',  'OrBeta',  '95CI', 'RiskAF', 'Platform', 'CNV']]\n",
    "df2_new = df2_new[['snp', 'IndSigSNP', 'Trait', 'Region', 'chr', 'bp', 'P', 'ReportedGene', 'MappedGene',\n",
    "               'Date', 'DateAddedToCatalog', 'PMID', 'FirstAuth',  'Journal', 'Link',\n",
    "               'Study', 'InitialN', 'ReplicationN',  'OrBeta',  '95CI', 'RiskAF', 'Platform']]\n",
    "df = pd.concat([df1_new, df2_new], ignore_index=True)\n",
    "df.to_csv('results/PheWAS/phewas_gwas_catalog.csv', index=False)\n",
    "df_tops = pd.read_csv('gwas_data/res_tops.csv')\n",
    "df_tops.rename(columns={'SNP': 'snp', 'P': 'P_for_T+'}, inplace=True)\n",
    "df = pd.merge(df, df_tops[['snp', 'P_for_T+']], on='snp', how='left')\n",
    "df.to_csv('results/PheWAS/gwas_catalog/phewas_gwas_catalog.csv', index=False)"
   ],
   "id": "2a5b8fb7cde5b3",
   "outputs": [],
   "execution_count": null
  },
  {
   "metadata": {},
   "cell_type": "code",
   "source": "df = pd.read_csv('results/PheWAS/gwas_catalog/phewas_gwas_catalog.csv')",
   "id": "b0c6974fac4e52ef",
   "outputs": [],
   "execution_count": null
  },
  {
   "metadata": {},
   "cell_type": "code",
   "source": "",
   "id": "e1b433d40dd875d1",
   "outputs": [],
   "execution_count": null
  }
 ],
 "metadata": {
  "kernelspec": {
   "display_name": "Python 3",
   "language": "python",
   "name": "python3"
  },
  "language_info": {
   "codemirror_mode": {
    "name": "ipython",
    "version": 2
   },
   "file_extension": ".py",
   "mimetype": "text/x-python",
   "name": "python",
   "nbconvert_exporter": "python",
   "pygments_lexer": "ipython2",
   "version": "2.7.6"
  }
 },
 "nbformat": 4,
 "nbformat_minor": 5
}
