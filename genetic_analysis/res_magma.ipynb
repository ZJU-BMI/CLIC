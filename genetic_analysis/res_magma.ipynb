{
 "cells": [
  {
   "cell_type": "code",
   "id": "initial_id",
   "metadata": {
    "collapsed": true
   },
   "source": "import pandas as pd",
   "outputs": [],
   "execution_count": null
  },
  {
   "metadata": {},
   "cell_type": "code",
   "source": [
    "df_magma = pd.read_csv('results/magma.gsa.out', sep=r'\\s+', comment='#')\n",
    "print(len(df_magma))\n",
    "# significant results\n",
    "df_magma_sig = df_magma[df_magma['P'] < 0.05]\n",
    "print(len(df_magma_sig))\n",
    "df_magma.sort_values(by='P').to_csv('results/magma_sorted.csv', index=False)"
   ],
   "id": "7dd9f82f4a93b3d7",
   "outputs": [],
   "execution_count": null
  },
  {
   "metadata": {},
   "cell_type": "code",
   "source": [
    "top20 = df_magma.nsmallest(20, 'P')\n",
    "# save\n",
    "top20.to_csv('results/magma_top20.txt', index=False, sep='\\t')\n",
    "top20.to_csv('results/magma_top20.csv', index=False, sep=',')"
   ],
   "id": "698925b31bafbd76",
   "outputs": [],
   "execution_count": null
  },
  {
   "metadata": {},
   "cell_type": "code",
   "source": [
    "df_magma_tsea = pd.read_csv('results/magma_exp_gtex_v8_ts_avg_log2TPM.gsa.out', sep=r'\\s+', comment='#')\n",
    "print(len(df_magma_tsea))\n",
    "# sort and save\n",
    "df_magma_tsea.sort_values(by='P').to_csv('results/magma_exp_gtex_v8_ts_avg_log2TPM_sorted.csv', index=False)"
   ],
   "id": "c0d4856c41307e50",
   "outputs": [],
   "execution_count": null
  },
  {
   "metadata": {},
   "cell_type": "code",
   "source": "",
   "id": "bac4d832028acd92",
   "outputs": [],
   "execution_count": null
  }
 ],
 "metadata": {
  "kernelspec": {
   "display_name": "Python 3",
   "language": "python",
   "name": "python3"
  },
  "language_info": {
   "codemirror_mode": {
    "name": "ipython",
    "version": 2
   },
   "file_extension": ".py",
   "mimetype": "text/x-python",
   "name": "python",
   "nbconvert_exporter": "python",
   "pygments_lexer": "ipython2",
   "version": "2.7.6"
  }
 },
 "nbformat": 4,
 "nbformat_minor": 5
}
