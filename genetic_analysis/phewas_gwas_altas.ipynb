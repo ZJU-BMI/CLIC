{
 "cells": [
  {
   "cell_type": "code",
   "id": "initial_id",
   "metadata": {
    "collapsed": true
   },
   "source": [
    "import pandas as pd\n",
    "import numpy as np\n",
    "import os"
   ],
   "outputs": [],
   "execution_count": null
  },
  {
   "metadata": {},
   "cell_type": "code",
   "source": [
    "# merge results from PheWAS GWAS Atlas\n",
    "phewas_results = os.listdir('results/PheWAS/gwas_altas')\n",
    "for i, file in enumerate(phewas_results):\n",
    "    if file.startswith('rs'):\n",
    "        df = pd.read_csv(os.path.join('results/PheWAS/gwas_altas', file))\n",
    "        rsid = file.split('.')[0]\n",
    "        df['snp'] = rsid\n",
    "        if i == 0:\n",
    "            df_altas = df\n",
    "        else:\n",
    "            df_altas = pd.concat([df_altas, df], ignore_index=True)\n",
    "# sort by domain, trait, and p-value\n",
    "df_altas = df_altas.sort_values(by=['Domain', 'Trait', 'P-value'], ascending=[True, True, True])"
   ],
   "id": "b721f4397c4f43f5",
   "outputs": [],
   "execution_count": null
  },
  {
   "metadata": {},
   "cell_type": "code",
   "source": "df_altas['Domain'].value_counts()",
   "id": "e2192424040ac77d",
   "outputs": [],
   "execution_count": null
  },
  {
   "metadata": {},
   "cell_type": "code",
   "source": [
    "# merge some domains\n",
    "# Metabolic, Endocrine, Nutritional -> Metabolic\n",
    "# Cell, Hematological -> Cell and Hematological\n",
    "# Activities, Aging, Mortality, Social Interactions -> Lifestyle factor\n",
    "# Environment, Environmental -> Environment\n",
    "# Psychiatric, Neurological, Cognitive -> Neuropsychiatric\n",
    "# Body Structures, Connective Tissue, Skeletal -> Body Structures\n",
    "# Ophthalmological, \"Ear, Nose, Throat\", Dermatological -> Sensory systems\n",
    "df_altas['domain_original'] = df_altas['Domain'].copy()\n",
    "df_altas['Domain'] = df_altas['domain_original'].replace({\n",
    "    'Endocrine': 'Metabolic',\n",
    "    'Nutritional': 'Metabolic',\n",
    "    'Activities': 'Lifestyle Factor',\n",
    "    'Aging': 'Lifestyle Factor',\n",
    "    'Mortality': 'Lifestyle Factor',\n",
    "    'Social Interactions': 'Lifestyle factor',\n",
    "    'Environment': 'Environment',\n",
    "    'Environmental': 'Environment',\n",
    "    'Psychiatric': 'Neuropsychiatric',\n",
    "    'Neurological': 'Neuropsychiatric',\n",
    "    'Cognitive': 'Neuropsychiatric',\n",
    "    'Body Structures': 'Body Structures',\n",
    "    'Connective Tissue': 'Body Structures',\n",
    "    'Skeletal': 'Body Structures',\n",
    "    \"Ophthalmological\": \"Sensory Systems\",\n",
    "    \"Ear, Nose, Throat\": \"Sensory Systems\",\n",
    "    \"Dermatological\": \"Sensory Systems\",\n",
    "    'Cell': 'Cell and Hematological',\n",
    "    'Hematological': 'Cell and Hematological',\n",
    "})\n",
    "print(df_altas['Domain'].value_counts())\n",
    "# save the results\n",
    "df_altas.to_csv('results/PheWAS/gwas_altas/gwas_altas_merged.csv', index=False)\n",
    "print(len(df_altas))"
   ],
   "id": "e291ee5a0ff00818",
   "outputs": [],
   "execution_count": null
  },
  {
   "metadata": {},
   "cell_type": "code",
   "source": [
    "# remove duplicates and keep the one with the lowest p-value\n",
    "df_altas_rmdup = df_altas.sort_values(by=['Domain', 'Trait', 'P-value'], ascending=[True, True, True]).drop_duplicates(subset=['Domain', 'Trait'], keep='first')\n",
    "print(len(df_altas_rmdup))\n",
    "print(df_altas_rmdup['Domain'].value_counts())\n",
    "df_altas_rmdup.to_csv('results/PheWAS/gwas_altas/gwas_altas_merged_rmdup.csv', index=False)"
   ],
   "id": "5133a7ac976f2e17",
   "outputs": [],
   "execution_count": null
  },
  {
   "metadata": {},
   "cell_type": "code",
   "source": [
    "df_altas_sig = df_altas[df_altas['P-value'] < 5e-8]\n",
    "# remove duplicates by same pmid and trait and snp, keep the one with the lowest p-value\n",
    "df_altas_sig = df_altas_sig.sort_values(by=['Domain', 'Trait', 'P-value'], ascending=[True, True, True]).drop_duplicates(subset=['Domain', 'Trait', 'PMID', 'snp'], keep='first')\n",
    "# save the results\n",
    "df_altas_sig.to_csv('results/PheWAS/gwas_altas/gwas_altas_sig.csv', index=False)"
   ],
   "id": "529565500228d5d1",
   "outputs": [],
   "execution_count": null
  },
  {
   "metadata": {},
   "cell_type": "code",
   "source": "",
   "id": "61e53efb060f7e46",
   "outputs": [],
   "execution_count": null
  }
 ],
 "metadata": {
  "kernelspec": {
   "display_name": "Python 3",
   "language": "python",
   "name": "python3"
  },
  "language_info": {
   "codemirror_mode": {
    "name": "ipython",
    "version": 2
   },
   "file_extension": ".py",
   "mimetype": "text/x-python",
   "name": "python",
   "nbconvert_exporter": "python",
   "pygments_lexer": "ipython2",
   "version": "2.7.6"
  }
 },
 "nbformat": 4,
 "nbformat_minor": 5
}
