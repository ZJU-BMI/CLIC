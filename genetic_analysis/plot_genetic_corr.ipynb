{
 "cells": [
  {
   "cell_type": "code",
   "id": "initial_id",
   "metadata": {
    "collapsed": true
   },
   "source": [
    "import pandas as pd\n",
    "import numpy as np\n",
    "import matplotlib.pyplot as plt\n",
    "import seaborn as sns"
   ],
   "outputs": [],
   "execution_count": null
  },
  {
   "metadata": {},
   "cell_type": "code",
   "source": [
    "# results for genetic correlation with disease\n",
    "df_corr = pd.read_csv('results/rg_cvds.csv')\n",
    "df_dis = pd.read_csv('gwas_data/cvd_gwas.csv')\n",
    "\n",
    "df_corr = df_corr.merge(df_dis, left_on='p2', right_on='pheno', how='inner')\n",
    "# SORT BY pheno_abv\n",
    "df_corr = df_corr.sort_values(['p1', 'pheno_abbv'])"
   ],
   "id": "f7768f2afe104ac0",
   "outputs": [],
   "execution_count": null
  },
  {
   "metadata": {},
   "cell_type": "code",
   "source": [
    "# errorbars, color by subtype (p1)\n",
    "diseases = df_corr['pheno_abbv'].unique()\n",
    "print(diseases, len(diseases))\n",
    "# positions for each disease, step 1.5, starting from 0\n",
    "positions = np.arange(0, len(diseases) * 1.5, 1.5)\n",
    "print(positions)"
   ],
   "id": "90ffc87c4e5e0ef7",
   "outputs": [],
   "execution_count": null
  },
  {
   "metadata": {},
   "cell_type": "code",
   "source": [
    "def p_marker(p):\n",
    "    if p < 0.05:\n",
    "        return '*'\n",
    "    else:\n",
    "        return ''\n",
    "df_corr['p_marker'] = df_corr['P_FDR'].apply(p_marker)"
   ],
   "id": "2474f0c7025144df",
   "outputs": [],
   "execution_count": null
  },
  {
   "metadata": {},
   "cell_type": "code",
   "source": [
    "import os\n",
    "os.makedirs('results/figs', exist_ok=True)"
   ],
   "id": "841830cd0fde114b",
   "outputs": [],
   "execution_count": null
  },
  {
   "metadata": {},
   "cell_type": "code",
   "source": [
    "annot = True\n",
    "# plot the results\n",
    "fig, ax = plt.subplots(figsize=(10.5, 6))\n",
    "# Iterate over subtypes to plot each one with its respective color, adjusted position, and error bars\n",
    "\n",
    "# Adjust x positions to separate subtypes\n",
    "adjusted_positions = [positions[diseases.tolist().index(disease)]\n",
    "                      for disease in df_corr['pheno_abbv']]\n",
    "# Plot error bars\n",
    "ax.errorbar(adjusted_positions, df_corr['rg'], yerr=df_corr['se'],\n",
    "            fmt='o', color='#0091DA', capsize=0,\n",
    "            markersize=15, elinewidth=5, capthick=2)\n",
    "\n",
    "# Annotate rg values\n",
    "if annot:\n",
    "    for i, (pos, row) in enumerate(zip(adjusted_positions, df_corr.iterrows())):\n",
    "        _, row = row\n",
    "        annot_text = f\"{row['rg']:.3f}{row['p_marker']}\"\n",
    "        # if row['p_marker'] != '':\n",
    "        ax.annotate(annot_text, (pos, row['rg'] + row['se'] + 0.015), textcoords=\"offset points\",\n",
    "                    xytext=(-1, 5), ha='center', color='black', fontsize=24)\n",
    "\n",
    "# line y=0\n",
    "ax.axhline(0, color='gray', linewidth=2, linestyle='--')\n",
    "\n",
    "# Improve layout\n",
    "ax.set_xticks(positions)\n",
    "ax.set_xticklabels(diseases)\n",
    "# ylabel: h2: Heritability\n",
    "ax.set_ylabel('Genetic Correlation', fontsize=25)\n",
    "ax.set_xlabel('Disease', fontsize=25)\n",
    "# title\n",
    "# ax.set_title('Genetic Correlation', fontsize=28)\n",
    "ax.tick_params(axis='both', which='major', labelsize=24)\n",
    "# x rotation 90\n",
    "# plt.xticks(rotation=90)\n",
    "# xlim\n",
    "ax.set_xlim(-1, len(diseases) * 1.5 + 0.2)\n",
    "ax.set_ylim(-0.2, 0.3)\n",
    "# remove top and right spines\n",
    "# sns.despine()\n",
    "# remove grid\n",
    "ax.grid(False)\n",
    "# left and bottom spines, color black, width 2\n",
    "for spine in ['left', 'bottom', 'top', 'right']:\n",
    "    ax.spines[spine].set_linewidth(3)\n",
    "    ax.spines[spine].set_color('black')\n",
    "\n",
    "# add a text in the bottom '*', p < 0.05\n",
    "if annot:\n",
    "    plt.text(0.02, 0.06, '*, FDR Adjusted P-value < 0.05', fontsize=20, color='black', #  ha='center', va='center',\n",
    "             transform=ax.transAxes, fontdict={'style': 'italic'})\n",
    "\n",
    "plt.tight_layout()\n",
    "if annot:\n",
    "    plt.savefig('results/figs/genetic_corr_disease.jpg', dpi=300)\n",
    "else:\n",
    "    plt.savefig('results/figs/genetic_corr_disease.jpg', dpi=300)"
   ],
   "id": "d4fe32d8b374bcba",
   "outputs": [],
   "execution_count": null
  },
  {
   "metadata": {},
   "cell_type": "code",
   "source": [
    "# change x and y axis labels\n",
    "fig, ax = plt.subplots(figsize=(6, 8))\n",
    "adjusted_positions = [positions[diseases.tolist().index(disease)] for disease in df_corr['pheno_abbv']]\n",
    "ax.errorbar(df_corr['rg'], adjusted_positions, xerr=df_corr['se'],\n",
    "            fmt='o', color='#0091DA', capsize=0,\n",
    "            markersize=15, elinewidth=5, capthick=2)\n",
    "# Annotate rg values\n",
    "ax.set_xlabel('', fontsize=18)\n",
    "ax.set_ylabel('', fontsize=18)\n",
    "ax.set_title('', fontsize=28)\n",
    "ax.set_yticks(positions)\n",
    "ax.set_yticklabels(diseases, fontsize=24)\n",
    "ax.tick_params(axis='both', which='major', labelsize=24)\n",
    "ax.set_xlim(-0.3, 0.3)\n",
    "sns.despine()\n",
    "plt.grid(False)\n",
    "plt.xticks(rotation=0)\n",
    "# left and bottom spines, color black, width 2\n",
    "for spine in ['left', 'bottom']:\n",
    "    ax.spines[spine].set_linewidth(4)\n",
    "    ax.spines[spine].set_color('black')\n",
    "plt.tight_layout()\n",
    "# set background color to white\n",
    "plt.gcf().set_facecolor('white')\n",
    "plt.savefig('results/figs/genetic_corr_disease_vertical.pdf', dpi=300, facecolor='white', bbox_inches='tight')"
   ],
   "id": "16c48a27f5c946cd",
   "outputs": [],
   "execution_count": null
  },
  {
   "metadata": {},
   "cell_type": "code",
   "source": [],
   "id": "afc66e51c0868f85",
   "outputs": [],
   "execution_count": null
  }
 ],
 "metadata": {
  "kernelspec": {
   "display_name": "Python 3",
   "language": "python",
   "name": "python3"
  },
  "language_info": {
   "codemirror_mode": {
    "name": "ipython",
    "version": 2
   },
   "file_extension": ".py",
   "mimetype": "text/x-python",
   "name": "python",
   "nbconvert_exporter": "python",
   "pygments_lexer": "ipython2",
   "version": "2.7.6"
  }
 },
 "nbformat": 4,
 "nbformat_minor": 5
}
