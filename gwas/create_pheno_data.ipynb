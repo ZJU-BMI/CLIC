{
 "cells": [
  {
   "cell_type": "code",
   "id": "initial_id",
   "metadata": {
    "collapsed": true
   },
   "source": [
    "import numpy as np\n",
    "import pandas as pd"
   ],
   "outputs": [],
   "execution_count": null
  },
  {
   "metadata": {},
   "cell_type": "code",
   "source": "data_path_root = 'data/insomnia_score'",
   "id": "a217feccb71ad98c",
   "outputs": [],
   "execution_count": null
  },
  {
   "metadata": {},
   "cell_type": "code",
   "source": [
    "df = pd.read_csv(data_path_root + '/ukb_ecg_data_balanced_cluster.csv')\n",
    "df2 = pd.read_csv(data_path_root + '/ukb_ecg_data_left_cluster.csv')\n",
    "print(len(df), len(df2))\n",
    "df_fids = pd.read_csv('data/allchr.fam', sep=' ', header=None)\n",
    "df_fids.columns = ['FID', 'IID', 'PID', 'MID', 'SEX', 'PHENOTYPE']"
   ],
   "id": "70a64ca2ae717ca4",
   "outputs": [],
   "execution_count": null
  },
  {
   "metadata": {},
   "cell_type": "code",
   "source": [
    "print(df['cluster_assign'].value_counts())\n",
    "print(df2['cluster_assign'].value_counts())"
   ],
   "id": "74e53a53a3da6403",
   "outputs": [],
   "execution_count": null
  },
  {
   "metadata": {},
   "cell_type": "code",
   "source": [
    "# case and controls\n",
    "df['pheno'] = np.where((df['cluster_assign'] == 0), 2, 1) # 1 as control, 2 as case\n",
    "df2['pheno'] = np.where((df2['cluster_assign'] == 0), 2, 1) # 1 as control, 2 as case\n",
    "print(df['pheno'].value_counts())\n",
    "print(df2['pheno'].value_counts())"
   ],
   "id": "e02c171a0dfa04c2",
   "outputs": [],
   "execution_count": null
  },
  {
   "metadata": {},
   "cell_type": "code",
   "source": "covariates = ['Sex', 'Age', 'TDI', 'BMI',  'SBP', 'DBP', 'Glucose', 'HDLc', 'LDLc', 'TG', 'smoking_healthy', 'alcohol_healthy']",
   "id": "5b9a0258db955c5b",
   "outputs": [],
   "execution_count": null
  },
  {
   "metadata": {},
   "cell_type": "code",
   "source": [
    "needed_cols = ['FID', 'IID', 'pheno'] + covariates\n",
    "df_gwas = pd.merge(df_fids, df, left_on='IID', right_on='Eid', how='inner')\n",
    "df_gwas2 = pd.merge(df_fids, df2, left_on='IID', right_on='Eid', how='inner')\n",
    "df_gwas = df_gwas[needed_cols]\n",
    "df_gwas2 = df_gwas2[needed_cols]\n",
    "df_gwas_all = pd.concat([df_gwas, df_gwas2], axis=0)\n",
    "print(len(df_gwas_all))\n",
    "print(df_gwas_all['pheno'].value_counts())\n",
    "df_gwas_all.to_csv(data_path_root + '/pheno_data.txt', sep=' ', index=False, na_rep='NA')\n",
    "# save fid, iid\n",
    "df_gwas_all[['FID', 'IID']].to_csv(data_path_root + '/subject_ids.txt', sep=' ', index=False, header=False, na_rep='NA')\n",
    "print(df_gwas_all['IID'].nunique())"
   ],
   "id": "fef2a67a8368ed28",
   "outputs": [],
   "execution_count": null
  },
  {
   "metadata": {},
   "cell_type": "code",
   "source": "",
   "id": "7191bb4771cce68e",
   "outputs": [],
   "execution_count": null
  }
 ],
 "metadata": {
  "kernelspec": {
   "display_name": "Python 3",
   "language": "python",
   "name": "python3"
  },
  "language_info": {
   "codemirror_mode": {
    "name": "ipython",
    "version": 2
   },
   "file_extension": ".py",
   "mimetype": "text/x-python",
   "name": "python",
   "nbconvert_exporter": "python",
   "pygments_lexer": "ipython2",
   "version": "2.7.6"
  }
 },
 "nbformat": 4,
 "nbformat_minor": 5
}
