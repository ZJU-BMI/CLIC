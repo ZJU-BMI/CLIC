{
 "cells": [
  {
   "cell_type": "code",
   "id": "initial_id",
   "metadata": {
    "collapsed": true
   },
   "source": [
    "import pandas as pd\n",
    "import numpy as np\n",
    "import gwaslab as gl\n",
    "import os\n",
    "import matplotlib.pyplot as plt"
   ],
   "outputs": [],
   "execution_count": null
  },
  {
   "metadata": {},
   "cell_type": "code",
   "source": [
    "# get font\n",
    "import matplotlib.font_manager\n",
    "# np.sort([f.name for f in matplotlib.font_manager.fontManager.ttflist])\n",
    "for f in matplotlib.font_manager.fontManager.ttflist:\n",
    "    if f.name == 'Helvetica':\n",
    "        print(f.name, f.fname)\n",
    "# set font to Helvetica\n",
    "plt.rcParams['font.family'] = \"Helvetica\""
   ],
   "id": "5ed99d8ac2d8cf20",
   "outputs": [],
   "execution_count": null
  },
  {
   "metadata": {},
   "cell_type": "code",
   "source": "res_path_root = 'gwas_results/non_insomnia'",
   "id": "bc21e5578ba301ef",
   "outputs": [],
   "execution_count": null
  },
  {
   "metadata": {},
   "cell_type": "code",
   "source": "df_gwas = pd.read_csv(res_path_root + '/res.txt.gz', sep=' ', low_memory=False)",
   "id": "560ef7227f3febf8",
   "outputs": [],
   "execution_count": null
  },
  {
   "metadata": {},
   "cell_type": "code",
   "source": [
    "gwas_s1 = gl.Sumstats(df_gwas, snpid=\"SNP\", chrom=\"CHR\", pos=\"BP\", ea=\"A1\",\n",
    "                      nea=\"A2\", eaf=\"EAF\", beta=\"BETA\", se=\"SE\", p=\"P\",\n",
    "                      n=\"NMISS\", build=\"19\")"
   ],
   "id": "293af135fc6ac55a",
   "outputs": [],
   "execution_count": null
  },
  {
   "metadata": {},
   "cell_type": "code",
   "source": "df_lead_s1 = gwas_s1.get_lead(anno=True, windowsizekb=500)",
   "id": "4fadfced17444ec9",
   "outputs": [],
   "execution_count": null
  },
  {
   "metadata": {},
   "cell_type": "code",
   "source": [
    "lead_snp_s1 = df_lead_s1['SNPID'].tolist()\n",
    "df_lead_s1"
   ],
   "id": "2ee8c94abdf61da8",
   "outputs": [],
   "execution_count": null
  },
  {
   "metadata": {},
   "cell_type": "code",
   "source": [
    "a = gwas_s1.plot_mqq(\n",
    "    mode='m',\n",
    "    # skip=2,\n",
    "    anno='GENENAME',\n",
    "    anno_set=lead_snp_s1,\n",
    "    # pinpoint1=[[\"rs3798519\",\"rs35560038\"],[\"rs7933262\",\"rs8098510\"]],\n",
    "    # pinpoint_color1=[\"purple\",\"black\"],\n",
    "    highlight=lead_snp_s1,\n",
    "    highlight_color=\"#D6101E\",\n",
    "    highlight_windowkb = 500,\n",
    "    jagged=True,\n",
    "    # font size\n",
    "    fontsize=12,\n",
    "    anno_fontsize=10,\n",
    "    fig_args={\"figsize\": (13, 6.5), \"dpi\": 300},\n",
    "    # titles=[\"Subtype 1\", \"Subtype 2\"],\n",
    "    # title_fontsize=16,\n",
    "    save=res_path_root + '/gwas_plot.jpg',\n",
    "    save_args={'dpi': 300, 'facecolor': 'white'},\n",
    "    marker_size=(20, 20),\n",
    "    # colors set to gray and dark gray\n",
    "    # colors=[\"#D3D3D3\", \"#A9A9A9\"],\n",
    "    # xlabel_coords=(0.01, -0.027),\n",
    ")"
   ],
   "id": "8771c1359f06c0b6",
   "outputs": [],
   "execution_count": null
  },
  {
   "metadata": {},
   "cell_type": "code",
   "source": [
    "# edit the mqq plot\n",
    "fig = a[0]\n",
    "# set width and height\n",
    "fig.set_figwidth(17)\n",
    "fig.set_figheight(6)\n",
    "# get axes\n",
    "ax_m = fig.get_axes()[0] # gwas for subtype 1 and 2\n",
    "xlabel_coords=(-0.01, -0.027)\n",
    "# fontsize\n",
    "# xlabel, position at the bottom left\n",
    "ax_m.set_xlabel('Chrom', fontsize=22, labelpad=10)\n",
    "ax_m.set_ylabel(r'$\\it{-log_{10}(P)}$', fontsize=25)\n",
    "ax_m.tick_params(axis='x', which='major', labelsize=16, width=2, pad=3)\n",
    "ax_m.tick_params(axis='y', which='major', labelsize=23, width=2)\n",
    "ax_m.xaxis.set_label_coords(xlabel_coords[0],xlabel_coords[1])\n",
    "for sp in ['bottom', 'left']:\n",
    "    ax_m.spines[sp].set_color('black')\n",
    "    ax_m.spines[sp].set_linewidth(4.5)\n",
    "\n",
    "# get the text in the plot (lambba gc)\n",
    "texts = ax_m.texts\n",
    "for text in texts:\n",
    "    text.set_fontsize(18)\n",
    "\n",
    "fig.savefig(res_path_root + '/gwas_plot_adjusted.jpg', dpi=300, facecolor='white', bbox_inches='tight')"
   ],
   "id": "a7fff1341a11e1bd",
   "outputs": [],
   "execution_count": null
  },
  {
   "metadata": {},
   "cell_type": "code",
   "source": [
    "# qq plot\n",
    "qqs1 = gwas_s1.plot_mqq(\n",
    "    mode='qq',\n",
    "    save=res_path_root + '/qqplot.jpg',\n",
    "    figargs= {\"figsize\": (6, 6)},\n",
    "    # color='75a4c9',\n",
    "    fontsize=15,\n",
    "    colors=['#0091DA'],\n",
    "    save_args={'dpi': 300, 'facecolor': 'white',},\n",
    ")"
   ],
   "id": "685d36148d1d2099",
   "outputs": [],
   "execution_count": null
  },
  {
   "metadata": {},
   "cell_type": "code",
   "source": [
    "# edit qq plot\n",
    "fig1 = qqs1[0]\n",
    "# set width and height\n",
    "fig1.set_figwidth(6)\n",
    "fig1.set_figheight(6)\n",
    "# get axes\n",
    "ax_qq = fig1.get_axes()[0]\n",
    "ax_qq.set_title('', fontsize=24) # remove title\n",
    "ax_qq.set_xlabel(r'Expected $\\it{-log_{10}(P)}$', fontsize=24)\n",
    "ax_qq.set_ylabel(r'Observed $\\it{-log_{10}(P)}$', fontsize=24)\n",
    "ax_qq.tick_params(axis='both', which='major', labelsize=20)\n",
    "# set y tick at 0 2 4 6 8 10 12\n",
    "ax_qq.set_yticks(np.arange(0, 22, 5))\n",
    "# spine bottom and left with black color, width 2\n",
    "for sp in ['bottom', 'left']:\n",
    "    ax_qq.spines[sp].set_color('black')\n",
    "    ax_qq.spines[sp].set_linewidth(5)\n",
    "# get the text in the plot (lambba gc)\n",
    "texts = ax_qq.texts\n",
    "for text in texts:\n",
    "    text.set_fontsize(25)\n",
    "fig1.savefig(res_path_root + '/qqplot_adjusted.jpg', dpi=300, facecolor='white', bbox_inches='tight')"
   ],
   "id": "e2c0afbd0fdc4f34",
   "outputs": [],
   "execution_count": null
  },
  {
   "metadata": {},
   "cell_type": "code",
   "source": [
    "a2 = gwas_s1.plot_mqq(\n",
    "    mode='m',\n",
    "    # skip=2,\n",
    "    anno=None,\n",
    "    highlight=lead_snp_s1,\n",
    "    highlight_color=\"#D6101E\",\n",
    "    highlight_windowkb = 500,\n",
    "    jagged=True,\n",
    "    # font size\n",
    "    fontsize=12,\n",
    "    fig_args={\"figsize\": (10, 5), \"dpi\": 300},\n",
    "    save=res_path_root + '/gwas_plot_simple.jpg',\n",
    "    save_args={'dpi': 300, 'facecolor': 'white'},\n",
    ")"
   ],
   "id": "d7dbc4e948187d47",
   "outputs": [],
   "execution_count": null
  }
 ],
 "metadata": {
  "kernelspec": {
   "display_name": "Python 3",
   "language": "python",
   "name": "python3"
  },
  "language_info": {
   "codemirror_mode": {
    "name": "ipython",
    "version": 2
   },
   "file_extension": ".py",
   "mimetype": "text/x-python",
   "name": "python",
   "nbconvert_exporter": "python",
   "pygments_lexer": "ipython2",
   "version": "2.7.6"
  }
 },
 "nbformat": 4,
 "nbformat_minor": 5
}
