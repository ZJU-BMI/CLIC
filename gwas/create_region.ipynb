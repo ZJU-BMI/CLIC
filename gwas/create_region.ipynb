{
 "cells": [
  {
   "cell_type": "code",
   "id": "initial_id",
   "metadata": {
    "collapsed": true,
    "ExecuteTime": {
     "end_time": "2025-07-02T07:24:23.826670Z",
     "start_time": "2025-07-02T07:24:23.821082Z"
    }
   },
   "source": [
    "import os\n",
    "\n",
    "import pandas as pd"
   ],
   "outputs": [],
   "execution_count": 5
  },
  {
   "metadata": {
    "ExecuteTime": {
     "end_time": "2025-07-02T07:22:13.933113Z",
     "start_time": "2025-07-02T07:22:06.575228Z"
    }
   },
   "cell_type": "code",
   "source": "res_path_root = 'gwas_results/non_insomnia'",
   "id": "c80e88cda7c2505f",
   "outputs": [],
   "execution_count": 2
  },
  {
   "metadata": {},
   "cell_type": "code",
   "outputs": [],
   "execution_count": null,
   "source": "df_gwas = pd.read_csv(res_path_root + '/res.txt.gz', sep=' ', low_memory=False)",
   "id": "46b5bab1af28e826"
  },
  {
   "metadata": {
    "ExecuteTime": {
     "end_time": "2025-07-02T07:27:48.386275Z",
     "start_time": "2025-07-02T07:27:48.379682Z"
    }
   },
   "cell_type": "code",
   "source": [
    "df_leads = pd.read_csv(res_path_root + '/lead_snp.csv', sep=',', low_memory=False)\n",
    "os.makedirs(os.path.join(res_path_root, 'regions'), exist_ok=True)"
   ],
   "id": "856dbec08ebfb3a7",
   "outputs": [],
   "execution_count": 10
  },
  {
   "metadata": {
    "ExecuteTime": {
     "end_time": "2025-07-02T07:27:53.477850Z",
     "start_time": "2025-07-02T07:27:48.810358Z"
    }
   },
   "cell_type": "code",
   "source": [
    "for row in df_leads.iterrows():\n",
    "    row = row[1]\n",
    "    chrom = row['CHR']\n",
    "    snp = row['SNP']\n",
    "    df_chr = df_gwas[df_gwas['CHR'] == chrom]\n",
    "    df_chr.to_csv(res_path_root + '/regions/' + snp + '.csv', index=False)"
   ],
   "id": "1a269a26a56d095",
   "outputs": [],
   "execution_count": 11
  },
  {
   "metadata": {},
   "cell_type": "code",
   "outputs": [],
   "execution_count": null,
   "source": "",
   "id": "e1229420fbbca5ad"
  }
 ],
 "metadata": {
  "kernelspec": {
   "display_name": "Python 3",
   "language": "python",
   "name": "python3"
  },
  "language_info": {
   "codemirror_mode": {
    "name": "ipython",
    "version": 2
   },
   "file_extension": ".py",
   "mimetype": "text/x-python",
   "name": "python",
   "nbconvert_exporter": "python",
   "pygments_lexer": "ipython2",
   "version": "2.7.6"
  }
 },
 "nbformat": 4,
 "nbformat_minor": 5
}
