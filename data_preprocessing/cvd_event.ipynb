{
 "cells": [
  {
   "cell_type": "code",
   "id": "initial_id",
   "metadata": {
    "collapsed": true
   },
   "source": [
    "import pandas as pd\n",
    "import numpy as np\n",
    "import datetime as dt\n",
    "import time"
   ],
   "outputs": [],
   "execution_count": null
  },
  {
   "metadata": {},
   "cell_type": "code",
   "source": [
    "df_cvd = pd.read_csv('/Users/natsumikyouno/UKBiobank/diseases/CVD/CVD.csv')\n",
    "df_cvd_times = pd.read_csv('/Users/natsumikyouno/UKBiobank/diseases/CVD/CVD_times.csv')\n",
    "cvd_names = df_cvd.columns.values[2:]\n",
    "print(cvd_names)"
   ],
   "id": "4db1c258669ff7d",
   "outputs": [],
   "execution_count": null
  },
  {
   "metadata": {},
   "cell_type": "code",
   "source": [
    "df_assessment_time = pd.read_csv('/Users/natsumikyouno/UKBiobank/time_assessment_centre.csv')\n",
    "df_assessment_time = df_assessment_time[['Eid', '53-2.0']].rename(columns={'53-2.0':'time_assessment'})\n",
    "# convert to datetime to timestamp\n",
    "df_assessment_time['time_assessment'] = pd.to_datetime(df_assessment_time['time_assessment'], format='%d/%m/%Y')\n",
    "# to timestamp in seconds\n",
    "df_assessment_time['time_assessment'] = df_assessment_time['time_assessment'].astype(np.int64) // 10**9\n",
    "# negative values are not possible as NaN\n",
    "df_assessment_time['time_assessment'] = np.where(df_assessment_time['time_assessment'] < 0, np.nan, df_assessment_time['time_assessment'])"
   ],
   "id": "7677c8c3dbaba5bf",
   "outputs": [],
   "execution_count": null
  },
  {
   "metadata": {},
   "cell_type": "code",
   "source": [
    "# concat with df_cvd_times\n",
    "df_cvd_times = df_assessment_time.merge(df_cvd_times, on='Eid')\n",
    "df_cvd_times = df_cvd_times[~df_cvd_times['time_assessment'].isna()]\n",
    "# zero as NA\n",
    "df_cvd_times = df_cvd_times.replace(0, np.nan)"
   ],
   "id": "ccd471370a67e75e",
   "outputs": [],
   "execution_count": null
  },
  {
   "metadata": {},
   "cell_type": "code",
   "source": [
    "# time difference for time assessment and event\n",
    "time_assessment = df_cvd_times['time_assessment'].values\n",
    "time_cvds = df_cvd_times.iloc[:, 3:].values\n",
    "time_diff = time_cvds - time_assessment.reshape(-1, 1)"
   ],
   "id": "191fb9d6a13f4021",
   "outputs": [],
   "execution_count": null
  },
  {
   "metadata": {},
   "cell_type": "code",
   "source": [
    "time_first_cvd = [] # find the minimum positive time difference and the index\n",
    "cvd_index = []\n",
    "\n",
    "time_last_cvd = [] # last event time before assessment\n",
    "last_cvd_index = []\n",
    "\n",
    "for i in range(len(time_diff)):\n",
    "    # find the minimum positive time difference\n",
    "    if np.all(np.isnan(time_diff[i])):\n",
    "        time_first_cvd.append(np.nan)\n",
    "        cvd_index.append(np.nan)\n",
    "        time_last_cvd.append(np.nan)\n",
    "        last_cvd_index.append(np.nan)\n",
    "    else:\n",
    "        if np.any(time_diff[i] > 0): # first cvd event after assessment\n",
    "            min_time = np.nanmin(time_diff[i][time_diff[i] > 0])\n",
    "            time_first_cvd.append(min_time)\n",
    "            cvd_index.append(cvd_names[np.where(time_diff[i] == min_time)[0][0]])\n",
    "        else:\n",
    "            time_first_cvd.append(np.nan)\n",
    "            cvd_index.append(np.nan)\n",
    "        if np.any(time_diff[i] <= 0): # last cvd event before assessment\n",
    "            max_time = np.nanmax(time_diff[i][time_diff[i] <= 0])\n",
    "            time_last_cvd.append(max_time)\n",
    "            last_cvd_index.append(cvd_names[np.where(time_diff[i] == max_time)[0][0]])\n",
    "        else:\n",
    "            time_last_cvd.append(np.nan)\n",
    "            last_cvd_index.append(np.nan)"
   ],
   "id": "155c9d049f62d0c0",
   "outputs": [],
   "execution_count": null
  },
  {
   "metadata": {},
   "cell_type": "code",
   "source": [
    "# censored time as 2023-05-31\n",
    "time_censored = time.strptime('2023-05-31', '%Y-%m-%d')\n",
    "# to timestamp in seconds\n",
    "time_censored = time.mktime(time_censored)\n",
    "time_to_censored = time_censored - time_assessment.reshape(-1, 1)"
   ],
   "id": "a5634b600e186e0",
   "outputs": [],
   "execution_count": null
  },
  {
   "metadata": {},
   "cell_type": "code",
   "source": [
    "df_cvd_events = pd.DataFrame({\n",
    "    'Eid': df_cvd_times['Eid'].values,\n",
    "    'time': time_first_cvd,\n",
    "    'cvd': cvd_index,\n",
    "    'event': np.where(np.array(time_first_cvd) > 0, 1, 0),\n",
    "    'time_censored': time_to_censored[:, 0],\n",
    "    'last_cvd': last_cvd_index,\n",
    "    'last_time': time_last_cvd,\n",
    "    'last_event': np.where(np.array(time_last_cvd) < 0, 1, 0)\n",
    "})\n",
    "df_cvd_events['time'] = np.where(df_cvd_events['time'] > 0, df_cvd_events['time'], df_cvd_events['time_censored'])"
   ],
   "id": "f54c8edfc8704097",
   "outputs": [],
   "execution_count": null
  },
  {
   "metadata": {},
   "cell_type": "code",
   "source": [
    "# convert to years\n",
    "df_cvd_events['time'] = df_cvd_events['time'] / (60 * 60 * 24 * 365.25)\n",
    "df_cvd_events['time_censored'] = df_cvd_events['time_censored'] / (60 * 60 * 24 * 365.25)\n",
    "df_cvd_events['last_time'] = df_cvd_events['last_time'] / (60 * 60 * 24 * 365.25)"
   ],
   "id": "fe48b32a889a3156",
   "outputs": [],
   "execution_count": null
  },
  {
   "metadata": {},
   "cell_type": "code",
   "source": [
    "# save\n",
    "df_cvd_events.to_csv('data/CVD_events.csv', index=False)"
   ],
   "id": "335b9306d669c0c9",
   "outputs": [],
   "execution_count": null
  },
  {
   "metadata": {},
   "cell_type": "code",
   "source": "df_cvd_events['event'].value_counts()",
   "id": "bfedcd8896666f0b",
   "outputs": [],
   "execution_count": null
  },
  {
   "metadata": {},
   "cell_type": "code",
   "source": "df_cvd_events['cvd'].value_counts()",
   "id": "898b14c7fb8daa6a",
   "outputs": [],
   "execution_count": null
  },
  {
   "metadata": {},
   "cell_type": "code",
   "source": "",
   "id": "7572d4869550a129",
   "outputs": [],
   "execution_count": null
  }
 ],
 "metadata": {
  "kernelspec": {
   "display_name": "Python 3",
   "language": "python",
   "name": "python3"
  },
  "language_info": {
   "codemirror_mode": {
    "name": "ipython",
    "version": 2
   },
   "file_extension": ".py",
   "mimetype": "text/x-python",
   "name": "python",
   "nbconvert_exporter": "python",
   "pygments_lexer": "ipython2",
   "version": "2.7.6"
  }
 },
 "nbformat": 4,
 "nbformat_minor": 5
}
