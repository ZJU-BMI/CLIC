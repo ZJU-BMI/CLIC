{
 "cells": [
  {
   "cell_type": "code",
   "id": "initial_id",
   "metadata": {
    "collapsed": true,
    "ExecuteTime": {
     "end_time": "2025-06-03T03:39:14.462468Z",
     "start_time": "2025-06-03T03:39:14.460024Z"
    }
   },
   "source": [
    "import pandas as pd\n",
    "import numpy as np\n",
    "import os"
   ],
   "outputs": [],
   "execution_count": 34
  },
  {
   "metadata": {
    "ExecuteTime": {
     "end_time": "2025-06-03T03:39:15.502402Z",
     "start_time": "2025-06-03T03:39:15.485510Z"
    }
   },
   "cell_type": "code",
   "source": [
    "df_ecg = pd.read_csv('data/ecg_valid.csv')\n",
    "# df_ecg.columns = ['ECG']\n",
    "# # get Eid from ECG file name EID_<id>.txt\n",
    "# df_ecg['Eid'] = df_ecg['ECG'].apply(lambda x: int(x.split('_')[0]))\n",
    "# df_ecg = df_ecg[['Eid', 'ECG']]\n",
    "print(len(df_ecg))"
   ],
   "id": "79ec63487f8c0a03",
   "outputs": [
    {
     "name": "stdout",
     "output_type": "stream",
     "text": [
      "46157\n"
     ]
    }
   ],
   "execution_count": 35
  },
  {
   "metadata": {
    "ExecuteTime": {
     "end_time": "2025-06-03T03:39:18.838270Z",
     "start_time": "2025-06-03T03:39:17.449970Z"
    }
   },
   "cell_type": "code",
   "source": [
    "df_demo = pd.read_csv('/Users/natsumikyouno/UKBiobank/demographic.csv') # demographic data, age, sex, ethnicity, etc.\n",
    "df_age = pd.read_csv('/Users/natsumikyouno/UKBiobank/ages.csv')\n",
    "df_age.columns = ['Eid', 'age_baseline', 'age1', 'age2', 'age3'] # age at baseline, age at the first visit, age at second visit (image visit), age at the third visit\n",
    "df_age = df_age[['Eid', 'age2']] # use age at the second visit (image visit) as age\n",
    "df_lifestyle = pd.read_csv('/Users/natsumikyouno/UKBiobank/lifestyle/lifestyle_category.csv') # smoking, alcohol, etc.\n",
    "df_physical = pd.read_csv('/Users/natsumikyouno/UKBiobank/physical_measurements.csv', usecols=['Eid', 'BMI']) # BMI, waist, hip, etc.\n",
    "df_sleep = pd.read_csv('/Users/natsumikyouno/UKBiobank/lifestyle/ukb_sleep_quality_v0.csv') # sleep quality, sleep duration, etc.\n",
    "df_sleep['sleep_quality_binary'] = np.where(df_sleep['sleep_quality'].isin(['Healthy']), 0, 1)\n",
    "df_sleep['sleep_quality_binary'] = np.where(df_sleep['sleep_quality'].isna(), np.nan, df_sleep['sleep_quality_binary'])\n",
    "df_lvf = pd.read_csv('/Users/natsumikyouno/UKBiobank/CMR/lv_functions_preprocessed.csv') # LV functions, LVEF, LVEDV, LVESV, etc.\n",
    "df_cvd_events = pd.read_csv('data/CVD_events.csv') # CVD events, time to event\n",
    "# biomarkers, SBP, DBP, CRP, HbA1c, LDL, HDL, Triglycerides, Glucose, Cholesterol\n",
    "df_biomarkers = pd.read_csv('/Users/natsumikyouno/UKBiobank/biomarkers.csv', usecols=['Eid', 'SBP', 'DBP', 'CRP', 'HbA1c', 'Glucose', 'LDLc', 'HDLc', 'TG', 'CHOL'])\n",
    "df_med = pd.read_csv('/Users/natsumikyouno/UKBiobank/ukb_medication_processed.csv', usecols=['Eid', 'medication0', 'medication1', 'medication2', 'medication3'])"
   ],
   "id": "8ba9063991355b09",
   "outputs": [],
   "execution_count": 36
  },
  {
   "metadata": {
    "ExecuteTime": {
     "end_time": "2025-06-03T03:39:21.479499Z",
     "start_time": "2025-06-03T03:39:21.383354Z"
    }
   },
   "cell_type": "code",
   "source": [
    "df = pd.merge(df_ecg, df_demo, on='Eid', how='left')\n",
    "df = pd.merge(df, df_age, on='Eid', how='left')\n",
    "df = pd.merge(df, df_physical, on='Eid', how='left')\n",
    "df = pd.merge(df, df_sleep, on='Eid', how='left')\n",
    "df = pd.merge(df, df_biomarkers, on='Eid', how='left')\n",
    "df = pd.merge(df, df_lvf, on='Eid', how='left')\n",
    "df = pd.merge(df, df_lifestyle, on='Eid', how='left')\n",
    "df = pd.merge(df, df_med, on='Eid', how='left')\n",
    "df = pd.merge(df, df_cvd_events, on='Eid', how='left')"
   ],
   "id": "6564438789b70e4",
   "outputs": [],
   "execution_count": 37
  },
  {
   "metadata": {
    "ExecuteTime": {
     "end_time": "2025-06-03T03:39:23.425911Z",
     "start_time": "2025-06-03T03:39:23.421439Z"
    }
   },
   "cell_type": "code",
   "source": [
    "df['Age_Baseline'] = df['Age']\n",
    "df['Age'] = df['age2'] # use age at the second visit (image visit) as age\n",
    "df['TyG'] = np.log(df['Glucose'] * 88.57 * df['TG'] * 18 / 2)"
   ],
   "id": "62498776ac69fca8",
   "outputs": [],
   "execution_count": 38
  },
  {
   "metadata": {
    "ExecuteTime": {
     "end_time": "2025-06-03T03:39:25.453264Z",
     "start_time": "2025-06-03T03:39:25.435497Z"
    }
   },
   "cell_type": "code",
   "source": [
    "# count missing values\n",
    "for col in df.columns:\n",
    "    n_miss = df[col].isna().sum()\n",
    "    pct_miss = n_miss / len(df) * 100\n",
    "    print(f'{col}: {df[col].isna().sum()} ({pct_miss:.2f}%)')"
   ],
   "id": "f09dd625c998e970",
   "outputs": [
    {
     "name": "stdout",
     "output_type": "stream",
     "text": [
      "Eid: 0 (0.00%)\n",
      "ECG: 0 (0.00%)\n",
      "Sex: 0 (0.00%)\n",
      "Age: 0 (0.00%)\n",
      "Ethnicity_code: 15 (0.03%)\n",
      "Ethnicity: 0 (0.00%)\n",
      "TDI: 45 (0.10%)\n",
      "IMD: 1104 (2.39%)\n",
      "Income: 4626 (10.02%)\n",
      "Income_v1: 38896 (84.27%)\n",
      "Income_v2: 4727 (10.24%)\n",
      "Income_v3: 42037 (91.07%)\n",
      "Education: 0 (0.00%)\n",
      "Education_v1: 0 (0.00%)\n",
      "Education_v2: 0 (0.00%)\n",
      "Education_v3: 0 (0.00%)\n",
      "age2: 0 (0.00%)\n",
      "BMI: 2 (0.00%)\n",
      "sleep_duration: 113 (0.24%)\n",
      "chronotype: 5466 (11.84%)\n",
      "insomnia: 34 (0.07%)\n",
      "snoring: 2588 (5.61%)\n",
      "dozing: 88 (0.19%)\n",
      "sleep_time: 0 (0.00%)\n",
      "sleep_duration_score: 113 (0.24%)\n",
      "chronotype_score: 5466 (11.84%)\n",
      "insomnia_score: 34 (0.07%)\n",
      "snoring_score: 2588 (5.61%)\n",
      "dozing_score: 88 (0.19%)\n",
      "sleep_quality_score: 7758 (16.81%)\n",
      "sleep_quality: 7758 (16.81%)\n",
      "sleep_quality_binary: 7758 (16.81%)\n",
      "SBP: 413 (0.89%)\n",
      "DBP: 413 (0.89%)\n",
      "CHOL: 3059 (6.63%)\n",
      "CRP: 3154 (6.83%)\n",
      "Glucose: 6855 (14.85%)\n",
      "HbA1c: 3391 (7.35%)\n",
      "HDLc: 6811 (14.76%)\n",
      "LDLc: 3154 (6.83%)\n",
      "TG: 3094 (6.70%)\n",
      "LVEF: 11720 (25.39%)\n",
      "LVEDV: 11720 (25.39%)\n",
      "LVESV: 11720 (25.39%)\n",
      "LVSV: 11720 (25.39%)\n",
      "CI: 11720 (25.39%)\n",
      "CO: 11727 (25.41%)\n",
      "HR: 11720 (25.39%)\n",
      "BSA: 11727 (25.41%)\n",
      "smoking_healthy: 119 (0.26%)\n",
      "alcohol_healthy: 3468 (7.51%)\n",
      "diet_healthy: 640 (1.39%)\n",
      "sleep_healthy: 113 (0.24%)\n",
      "activity_healthy: 943 (2.04%)\n",
      "sedentary_healthy: 880 (1.91%)\n",
      "social_healthy: 642 (1.39%)\n",
      "medication0: 0 (0.00%)\n",
      "medication1: 0 (0.00%)\n",
      "medication2: 0 (0.00%)\n",
      "medication3: 0 (0.00%)\n",
      "time: 0 (0.00%)\n",
      "cvd: 43688 (94.65%)\n",
      "event: 0 (0.00%)\n",
      "time_censored: 0 (0.00%)\n",
      "last_cvd: 41959 (90.90%)\n",
      "last_time: 41959 (90.90%)\n",
      "last_event: 0 (0.00%)\n",
      "Age_Baseline: 0 (0.00%)\n",
      "TyG: 6881 (14.91%)\n"
     ]
    }
   ],
   "execution_count": 39
  },
  {
   "metadata": {
    "ExecuteTime": {
     "end_time": "2025-06-03T03:40:14.371297Z",
     "start_time": "2025-06-03T03:40:13.713390Z"
    }
   },
   "cell_type": "code",
   "source": "df.to_csv('data/ukb_ecg_data.csv', index=False)",
   "id": "51f54759d6e49a52",
   "outputs": [],
   "execution_count": 40
  },
  {
   "metadata": {
    "ExecuteTime": {
     "end_time": "2025-06-03T03:40:20.963367Z",
     "start_time": "2025-06-03T03:40:20.346287Z"
    }
   },
   "cell_type": "code",
   "source": [
    "# remove subjects with cvd events\n",
    "df_no_cvd_before = df[~((df['last_event'] == 1) & (df['last_time'] > -10))] # subjects without CVD event in last 10 years\n",
    "print(df_no_cvd_before.shape[0])\n",
    "df_no_cvd_before.to_csv('data/ukb_ecg_data_no_cvd_before.csv', index=False)"
   ],
   "id": "139900b6277ecc9d",
   "outputs": [
    {
     "name": "stdout",
     "output_type": "stream",
     "text": [
      "43100\n"
     ]
    }
   ],
   "execution_count": 41
  },
  {
   "metadata": {
    "ExecuteTime": {
     "end_time": "2025-06-03T03:40:23.768210Z",
     "start_time": "2025-06-03T03:40:23.278067Z"
    }
   },
   "cell_type": "code",
   "source": [
    "df_no_mediation = df_no_cvd_before[df_no_cvd_before['medication2'] == 0] # remove subjects with diabetes medication\n",
    "print(df_no_mediation.shape[0])\n",
    "df_no_mediation.to_csv('data/ukb_ecg_data_selected.csv', index=False)"
   ],
   "id": "ad7171d8a34b5874",
   "outputs": [
    {
     "name": "stdout",
     "output_type": "stream",
     "text": [
      "34884\n"
     ]
    }
   ],
   "execution_count": 42
  },
  {
   "metadata": {
    "ExecuteTime": {
     "end_time": "2025-06-03T03:40:25.165725Z",
     "start_time": "2025-06-03T03:40:25.155867Z"
    }
   },
   "cell_type": "code",
   "source": [
    "df_nona = df[~(df['sleep_quality_binary'].isna())]\n",
    "print(df_nona['sleep_quality_binary'].value_counts())"
   ],
   "id": "a37f29539a49b6f",
   "outputs": [
    {
     "name": "stdout",
     "output_type": "stream",
     "text": [
      "sleep_quality_binary\n",
      "1.0    22821\n",
      "0.0    15578\n",
      "Name: count, dtype: int64\n"
     ]
    }
   ],
   "execution_count": 43
  },
  {
   "metadata": {
    "ExecuteTime": {
     "end_time": "2025-06-03T03:40:27.088102Z",
     "start_time": "2025-06-03T03:40:27.082395Z"
    }
   },
   "cell_type": "code",
   "source": "df_nona['cvd'].value_counts()",
   "id": "15b938e009ae5af5",
   "outputs": [
    {
     "data": {
      "text/plain": [
       "cvd\n",
       "atrial_fibrillation          804\n",
       "chronic_artery_disease       522\n",
       "angina                       306\n",
       "stroke                       182\n",
       "heart_failure                106\n",
       "peripheral_artery_disease     97\n",
       "Name: count, dtype: int64"
      ]
     },
     "execution_count": 44,
     "metadata": {},
     "output_type": "execute_result"
    }
   ],
   "execution_count": 44
  },
  {
   "metadata": {
    "ExecuteTime": {
     "end_time": "2025-06-03T03:40:29.274634Z",
     "start_time": "2025-06-03T03:40:29.270712Z"
    }
   },
   "cell_type": "code",
   "source": "df_nona['event'].value_counts()",
   "id": "562e0bee836b1cf2",
   "outputs": [
    {
     "data": {
      "text/plain": [
       "event\n",
       "0    36382\n",
       "1     2017\n",
       "Name: count, dtype: int64"
      ]
     },
     "execution_count": 45,
     "metadata": {},
     "output_type": "execute_result"
    }
   ],
   "execution_count": 45
  },
  {
   "metadata": {
    "ExecuteTime": {
     "end_time": "2025-06-03T03:40:31.087801Z",
     "start_time": "2025-06-03T03:40:31.084204Z"
    }
   },
   "cell_type": "code",
   "source": "df_no_mediation['event'].value_counts()",
   "id": "a1fa6ae8eb13b746",
   "outputs": [
    {
     "data": {
      "text/plain": [
       "event\n",
       "0    33598\n",
       "1     1286\n",
       "Name: count, dtype: int64"
      ]
     },
     "execution_count": 46,
     "metadata": {},
     "output_type": "execute_result"
    }
   ],
   "execution_count": 46
  },
  {
   "metadata": {
    "ExecuteTime": {
     "end_time": "2025-06-03T03:40:33.339021Z",
     "start_time": "2025-06-03T03:40:33.334540Z"
    }
   },
   "cell_type": "code",
   "source": "df_no_mediation['cvd'].value_counts()",
   "id": "cd6120a317925f16",
   "outputs": [
    {
     "data": {
      "text/plain": [
       "cvd\n",
       "atrial_fibrillation          523\n",
       "chronic_artery_disease       274\n",
       "angina                       186\n",
       "stroke                       160\n",
       "peripheral_artery_disease     77\n",
       "heart_failure                 66\n",
       "Name: count, dtype: int64"
      ]
     },
     "execution_count": 47,
     "metadata": {},
     "output_type": "execute_result"
    }
   ],
   "execution_count": 47
  },
  {
   "metadata": {
    "ExecuteTime": {
     "end_time": "2025-04-27T11:09:57.085174Z",
     "start_time": "2025-04-27T11:09:57.081463Z"
    }
   },
   "cell_type": "code",
   "source": "",
   "id": "c104280d0bb934ba",
   "outputs": [
    {
     "data": {
      "text/plain": [
       "event\n",
       "0    34176\n",
       "1     1676\n",
       "Name: count, dtype: int64"
      ]
     },
     "execution_count": 37,
     "metadata": {},
     "output_type": "execute_result"
    }
   ],
   "execution_count": 37
  },
  {
   "metadata": {},
   "cell_type": "code",
   "outputs": [],
   "execution_count": null,
   "source": "",
   "id": "4351857e081798ea"
  }
 ],
 "metadata": {
  "kernelspec": {
   "display_name": "Python 3",
   "language": "python",
   "name": "python3"
  },
  "language_info": {
   "codemirror_mode": {
    "name": "ipython",
    "version": 2
   },
   "file_extension": ".py",
   "mimetype": "text/x-python",
   "name": "python",
   "nbconvert_exporter": "python",
   "pygments_lexer": "ipython2",
   "version": "2.7.6"
  }
 },
 "nbformat": 4,
 "nbformat_minor": 5
}
