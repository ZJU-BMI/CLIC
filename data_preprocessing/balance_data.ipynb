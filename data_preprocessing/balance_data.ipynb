{
 "cells": [
  {
   "cell_type": "code",
   "id": "initial_id",
   "metadata": {
    "collapsed": true
   },
   "source": [
    "import pandas as pd\n",
    "import numpy as np\n",
    "from matplotlib import pyplot as plt\n",
    "from utils import psm, calc_smd\n",
    "from scipy.stats import ttest_ind"
   ],
   "outputs": [],
   "execution_count": null
  },
  {
   "metadata": {},
   "cell_type": "code",
   "source": "df = pd.read_csv('data/ukb_ecg_data_imputed.csv')",
   "id": "8c600a540ade8772",
   "outputs": [],
   "execution_count": null
  },
  {
   "metadata": {},
   "cell_type": "code",
   "source": "df['insomnia'].value_counts(dropna=False)",
   "id": "391b2ae1787c1ebd",
   "outputs": [],
   "execution_count": null
  },
  {
   "metadata": {},
   "cell_type": "code",
   "source": [
    "df = df[~(df['insomnia_score'].isna())]\n",
    "print(df['insomnia_score'].value_counts())"
   ],
   "id": "ba812089ce33eb57",
   "outputs": [],
   "execution_count": null
  },
  {
   "metadata": {},
   "cell_type": "code",
   "source": "print(df.columns)",
   "id": "dafada20ec1866f4",
   "outputs": [],
   "execution_count": null
  },
  {
   "metadata": {},
   "cell_type": "code",
   "source": [
    "# covars, TDI: townsend deprivation index\n",
    "covars = ['Sex', 'Age', 'Ethnicity', 'TDI', 'BMI',  'SBP', 'DBP', 'CRP', 'Glucose', 'HDLc', 'LDLc', 'CHOL', 'TG', 'TyG', 'smoking_healthy', 'alcohol_healthy']"
   ],
   "id": "bb24ef26567b3f06",
   "outputs": [],
   "execution_count": null
  },
  {
   "metadata": {},
   "cell_type": "code",
   "source": [
    "cases = df[df['insomnia_score'] == 1]\n",
    "controls = df[df['insomnia_score'] == 0]\n",
    "for c in covars:\n",
    "    mean_case = cases[c].mean()\n",
    "    mean_control = controls[c].mean()\n",
    "    pval = ttest_ind(cases[c], controls[c])[1]\n",
    "    smd = calc_smd(df, c, type='insomnia_score')\n",
    "    print(f'{c}: Case mean = {mean_case:.2f}, Control mean = {mean_control:.2f}, p-value = {pval:.4f}, SMD = {smd:.4f}')"
   ],
   "id": "23491b4ae8b071e6",
   "outputs": [],
   "execution_count": null
  },
  {
   "metadata": {},
   "cell_type": "code",
   "source": "_, df_balanced = psm(df, type='insomnia_score', covars=covars, need_shuffle=True, seed=42)",
   "id": "a32b143396c52ed6",
   "outputs": [],
   "execution_count": null
  },
  {
   "metadata": {},
   "cell_type": "code",
   "source": [
    "print('Number of rows after matching:', len(df_balanced))\n",
    "cases = df_balanced[df_balanced['insomnia_score'] == 1]\n",
    "controls = df_balanced[df_balanced['insomnia_score'] == 0]\n",
    "print(f'Number of cases: {len(cases)}',\n",
    "      f'Number of controls: {len(controls)}')\n",
    "\n",
    "for c in covars:\n",
    "    mean_case = cases[c].mean()\n",
    "    mean_control = controls[c].mean()\n",
    "    pval = ttest_ind(cases[c], controls[c])[1]\n",
    "    smd = calc_smd(df_balanced, c, type='insomnia_score')\n",
    "    print(f'{c}: Case mean = {mean_case:.2f}, Control mean = {mean_control:.2f}, p-value = {pval:.4f}, SMD = {smd:.4f}')"
   ],
   "id": "6751f075515d5323",
   "outputs": [],
   "execution_count": null
  },
  {
   "metadata": {},
   "cell_type": "code",
   "source": "df_balanced.to_csv('data/ukb_ecg_data_balanced.csv', index=False)",
   "id": "a4f3b5a856cbfc0a",
   "outputs": [],
   "execution_count": null
  },
  {
   "metadata": {},
   "cell_type": "code",
   "source": "df_balanced['event'].value_counts()",
   "id": "13cb232986fc9e89",
   "outputs": [],
   "execution_count": null
  },
  {
   "metadata": {},
   "cell_type": "code",
   "source": "",
   "id": "d1143bd6eb1abea0",
   "outputs": [],
   "execution_count": null
  }
 ],
 "metadata": {
  "kernelspec": {
   "display_name": "Python 3",
   "language": "python",
   "name": "python3"
  },
  "language_info": {
   "codemirror_mode": {
    "name": "ipython",
    "version": 2
   },
   "file_extension": ".py",
   "mimetype": "text/x-python",
   "name": "python",
   "nbconvert_exporter": "python",
   "pygments_lexer": "ipython2",
   "version": "2.7.6"
  }
 },
 "nbformat": 4,
 "nbformat_minor": 5
}
