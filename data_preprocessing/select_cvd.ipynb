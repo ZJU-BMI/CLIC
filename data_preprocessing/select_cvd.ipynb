{
 "cells": [
  {
   "cell_type": "code",
   "id": "initial_id",
   "metadata": {
    "collapsed": true,
    "ExecuteTime": {
     "end_time": "2025-04-24T11:36:08.643466Z",
     "start_time": "2025-04-24T11:36:08.122785Z"
    }
   },
   "source": [
    "import pandas as pd\n",
    "import numpy as np"
   ],
   "outputs": [],
   "execution_count": 1
  },
  {
   "cell_type": "code",
   "source": [
    "# select Cardiovascular disease (CVD) related diseases\n",
    "# icd codes for hypertension\n",
    "icd_codes_hypertension = ['I10', 'I11', 'I12', 'I13', 'I15']\n",
    "\n",
    "# icd codes for atrial fibrillation\n",
    "icd_codes_atrial_fibrillation = ['I48']\n",
    "\n",
    "# icd codes for Angina pectoris\n",
    "icd_codes_angina = ['I20']\n",
    "\n",
    "# icd codes for chronic artery disease\n",
    "icd_codes_chronic_artery_disease = ['I25']\n",
    "\n",
    "# icd codes for heart failure\n",
    "icd_codes_heart_failure = ['I50']\n",
    "\n",
    "# stroke\n",
    "icd_codes_stroke = ['I60', 'I61', 'I62', 'I63', 'I64']\n",
    "\n",
    "# peripheral artery disease\n",
    "icd_codes_peripheral_artery_disease = ['I73']"
   ],
   "metadata": {
    "collapsed": false,
    "ExecuteTime": {
     "end_time": "2025-04-24T11:36:09.262012Z",
     "start_time": "2025-04-24T11:36:09.258877Z"
    }
   },
   "id": "c0a6a5534818911c",
   "outputs": [],
   "execution_count": 2
  },
  {
   "cell_type": "code",
   "source": [
    "# self-reported diseases code\n",
    "sr_hypertension = [1065, 1072, 1073]\n",
    "sr_atrial_fibrillation = [1077]\n",
    "sr_angina = [1074]\n",
    "sr_chronic_artery_disease = []\n",
    "sr_heart_failure = [1076]\n",
    "sr_stroke = [1081, 1086, 1491, 1583]\n",
    "sr_peripheral_artery_disease = [1067]"
   ],
   "metadata": {
    "collapsed": false,
    "ExecuteTime": {
     "end_time": "2025-04-24T11:45:25.010620Z",
     "start_time": "2025-04-24T11:45:25.005644Z"
    }
   },
   "id": "1787769c8df1c192",
   "outputs": [],
   "execution_count": 7
  },
  {
   "cell_type": "code",
   "source": [
    "# read ICD10 codes and self-reported codes for all subjects\n",
    "df_icd = pd.read_csv('/Users/natsumikyouno/UKBiobank/diseases/ukb_diseases/main_data_icd10.csv', low_memory=False)\n",
    "df_icd_times = pd.read_csv('/Users/natsumikyouno/UKBiobank/diseases/ukb_diseases//time_icd10.csv', low_memory=False)\n",
    "df_noncancer = pd.read_csv('/Users/natsumikyouno/UKBiobank/diseases/ukb_diseases//self_reported_noncancer.csv', low_memory=False)\n",
    "df_noncancer_times = pd.read_csv('/Users/natsumikyouno/UKBiobank/diseases/ukb_diseases//self_reported_noncancer_times.csv', low_memory=False)"
   ],
   "metadata": {
    "collapsed": false,
    "ExecuteTime": {
     "end_time": "2025-04-24T11:39:48.292682Z",
     "start_time": "2025-04-24T11:39:30.804793Z"
    }
   },
   "id": "8d8b0151344a3bfe",
   "outputs": [],
   "execution_count": 5
  },
  {
   "cell_type": "code",
   "source": [
    "# codes to numpy\n",
    "icd_codes = df_icd.iloc[:, 1:].to_numpy()\n",
    "icd_code_times = df_icd_times.iloc[:, 1:].to_numpy()\n",
    "noncancers_codes = df_noncancer.iloc[:, 1:].to_numpy()\n",
    "noncancers_code_times = df_noncancer_times.iloc[:, 1:].to_numpy()\n",
    "# disease marker for\n",
    "dis_marker = np.zeros([len(icd_codes), 7], dtype=np.int32)\n",
    "dis_date = np.zeros([len(icd_codes), 7], dtype=float)"
   ],
   "metadata": {
    "collapsed": false,
    "ExecuteTime": {
     "end_time": "2025-04-24T11:45:31.845401Z",
     "start_time": "2025-04-24T11:45:28.905998Z"
    }
   },
   "id": "4b1db44ec5807b7f",
   "outputs": [],
   "execution_count": 8
  },
  {
   "cell_type": "code",
   "source": [
    "from datetime import datetime\n",
    "\n",
    "# search disease codes for each subject\n",
    "for i in range(len(icd_codes)):\n",
    "    icd_i = icd_codes[i]\n",
    "    # check icd_codes\n",
    "    for t, icd_code in enumerate(icd_i):\n",
    "        # if nan detected, just break (no more codes for this subject)\n",
    "        if isinstance(icd_code, str) is False:\n",
    "            break\n",
    "            \n",
    "        # 0. hypertension\n",
    "        for x in icd_codes_hypertension:\n",
    "            if icd_code.startswith(x):\n",
    "                dis_marker[i][0] = 1\n",
    "                if str(icd_code_times[i][t]) != 'nan':\n",
    "                    dt = datetime.strptime(icd_code_times[i][t], '%d/%m/%Y')\n",
    "                    dis_date[i][0] = dt.timestamp()\n",
    "                    break\n",
    "                \n",
    "        # 1. atrial fibrillation\n",
    "        for x in icd_codes_atrial_fibrillation:\n",
    "            if icd_code.startswith(x):\n",
    "                dis_marker[i][1] = 1\n",
    "                if str(icd_code_times[i][t]) != 'nan':\n",
    "                    dt = datetime.strptime(icd_code_times[i][t], '%d/%m/%Y')\n",
    "                    dis_date[i][1] = dt.timestamp()\n",
    "                    break\n",
    "                \n",
    "        # 2. Angina pectoris\n",
    "        for x in icd_codes_angina:\n",
    "            if icd_code.startswith(x):\n",
    "                dis_marker[i][2] = 1\n",
    "                if str(icd_code_times[i][t]) != 'nan':\n",
    "                    dt = datetime.strptime(icd_code_times[i][t], '%d/%m/%Y')\n",
    "                    dis_date[i][2] = dt.timestamp()\n",
    "                    break\n",
    "        \n",
    "        # 3. chronic artery disease\n",
    "        for x in icd_codes_chronic_artery_disease:\n",
    "            if icd_code.startswith(x):\n",
    "                dis_marker[i][3] = 1\n",
    "                if str(icd_code_times[i][t]) != 'nan':\n",
    "                    dt = datetime.strptime(icd_code_times[i][t], '%d/%m/%Y')\n",
    "                    dis_date[i][3] = dt.timestamp()\n",
    "                    break\n",
    "        \n",
    "        # 4. heart failure\n",
    "        for x in icd_codes_heart_failure:\n",
    "            if icd_code.startswith(x):\n",
    "                dis_marker[i][4] = 1\n",
    "                if str(icd_code_times[i][t]) != 'nan':\n",
    "                    dt = datetime.strptime(icd_code_times[i][t], '%d/%m/%Y')\n",
    "                    dis_date[i][4] = dt.timestamp()\n",
    "                    break\n",
    "        \n",
    "        # 5. stroke\n",
    "        for x in icd_codes_stroke:\n",
    "            if icd_code.startswith(x):\n",
    "                dis_marker[i][5] = 1\n",
    "                if str(icd_code_times[i][t]) != 'nan':\n",
    "                    dt = datetime.strptime(icd_code_times[i][t], '%d/%m/%Y')\n",
    "                    dis_date[i][5] = dt.timestamp()\n",
    "                    break\n",
    "                    \n",
    "        # 6. peripheral artery disease\n",
    "        for x in icd_codes_peripheral_artery_disease:\n",
    "            if icd_code.startswith(x):\n",
    "                dis_marker[i][6] = 1\n",
    "                if str(icd_code_times[i][t]) != 'nan':\n",
    "                    dt = datetime.strptime(icd_code_times[i][t], '%d/%m/%Y')\n",
    "                    dis_date[i][6] = dt.timestamp()\n",
    "                    break\n"
   ],
   "metadata": {
    "collapsed": false,
    "ExecuteTime": {
     "end_time": "2025-04-24T11:45:39.424332Z",
     "start_time": "2025-04-24T11:45:31.860907Z"
    }
   },
   "id": "69b839ca064f87c7",
   "outputs": [],
   "execution_count": 9
  },
  {
   "cell_type": "code",
   "source": [
    "# search self-reported disease codes for each subject\n",
    "from math import ceil\n",
    "# check non-cancer codes\n",
    "for i in range(len(icd_codes)):\n",
    "    noncancers_i = noncancers_codes[i]\n",
    "    for t, code in enumerate(noncancers_i):\n",
    "        if code == np.nan:\n",
    "            continue\n",
    "            \n",
    "        # 0. hypertension\n",
    "        if dis_marker[i][0] == 0:\n",
    "            for x in sr_hypertension:\n",
    "                if code == x:\n",
    "                    dis_marker[i][0] = 1\n",
    "                    dt = 0.\n",
    "                    if not np.isnan(noncancers_code_times[i][t]) and noncancers_code_times[i][t] != -1:\n",
    "                        yr = int(noncancers_code_times[i][t])\n",
    "                        mon = max(1, ceil(int((noncancers_code_times[i][t] - int(noncancers_code_times[i][t])) * 12))) \n",
    "                        if yr > 1970:\n",
    "                            dt = datetime(year=yr, month=mon, day=1).timestamp()\n",
    "                    dis_date[i][0] = dt\n",
    "                    break\n",
    "        \n",
    "        # 1. atrial fibrillation\n",
    "        if dis_marker[i][1] == 0:\n",
    "            for x in sr_atrial_fibrillation:\n",
    "                if code == x:\n",
    "                    dis_marker[i][1] = 1\n",
    "                    dt = 0.\n",
    "                    if not np.isnan(noncancers_code_times[i][t]) and noncancers_code_times[i][t] != -1:\n",
    "                        yr = int(noncancers_code_times[i][t])\n",
    "                        mon = max(1, ceil(int((noncancers_code_times[i][t] - int(noncancers_code_times[i][t])) * 12))) \n",
    "                        if yr > 1970:\n",
    "                            dt = datetime(year=yr, month=mon, day=1).timestamp()\n",
    "                    dis_date[i][1] = dt\n",
    "                    break\n",
    "        \n",
    "        # 2. angina pectoris\n",
    "        if dis_marker[i][2] == 0:\n",
    "            for x in sr_angina:\n",
    "                if code == x:\n",
    "                    dis_marker[i][2] = 1\n",
    "                    dt = 0.\n",
    "                    if not np.isnan(noncancers_code_times[i][t]) and noncancers_code_times[i][t] != -1:\n",
    "                        yr = int(noncancers_code_times[i][t])\n",
    "                        mon = max(1, ceil(int((noncancers_code_times[i][t] - int(noncancers_code_times[i][t])) * 12))) \n",
    "                        if yr > 1970:\n",
    "                            dt = datetime(year=yr, month=mon, day=1).timestamp()\n",
    "                    dis_date[i][2] = dt\n",
    "                    break\n",
    "        \n",
    "        # 3. chronic artery disease\n",
    "        if dis_marker[i][3] == 0:\n",
    "            for x in sr_chronic_artery_disease:\n",
    "                if code == x:\n",
    "                    dis_marker[i][3] = 1\n",
    "                    dt = 0.\n",
    "                    if not np.isnan(noncancers_code_times[i][t]) and noncancers_code_times[i][t] != -1:\n",
    "                        yr = int(noncancers_code_times[i][t])\n",
    "                        mon = max(1, ceil(int((noncancers_code_times[i][t] - int(noncancers_code_times[i][t])) * 12))) \n",
    "                        if yr > 1970:\n",
    "                            dt = datetime(year=yr, month=mon, day=1).timestamp()\n",
    "                    dis_date[i][3] = dt\n",
    "                    break\n",
    "                    \n",
    "        # 4. heart failure\n",
    "        if dis_marker[i][4] == 0:\n",
    "            for x in sr_heart_failure:\n",
    "                if code == x:\n",
    "                    dis_marker[i][4] = 1\n",
    "                    dt = 0.\n",
    "                    if not np.isnan(noncancers_code_times[i][t]) and noncancers_code_times[i][t] != -1:\n",
    "                        yr = int(noncancers_code_times[i][t])\n",
    "                        mon = max(1, ceil(int((noncancers_code_times[i][t] - int(noncancers_code_times[i][t])) * 12))) \n",
    "                        if yr > 1970:\n",
    "                            dt = datetime(year=yr, month=mon, day=1).timestamp()\n",
    "                    dis_date[i][4] = dt\n",
    "                    break\n",
    "        \n",
    "        # 5. stroke\n",
    "        if dis_marker[i][5] == 0:\n",
    "            for x in sr_stroke:\n",
    "                if code == x:\n",
    "                    dis_marker[i][5] = 1\n",
    "                    dt = 0.\n",
    "                    if not np.isnan(noncancers_code_times[i][t]) and noncancers_code_times[i][t] != -1:\n",
    "                        yr = int(noncancers_code_times[i][t])\n",
    "                        mon = max(1, ceil(int((noncancers_code_times[i][t] - int(noncancers_code_times[i][t])) * 12))) \n",
    "                        if yr > 1970:\n",
    "                            dt = datetime(year=yr, month=mon, day=1).timestamp()\n",
    "                    dis_date[i][5] = dt\n",
    "                    break\n",
    "        \n",
    "        # 6. peripheral artery disease\n",
    "        if dis_marker[i][6] == 0:\n",
    "            for x in sr_peripheral_artery_disease:\n",
    "                if code == x:\n",
    "                    dis_marker[i][6] = 1\n",
    "                    dt = 0.\n",
    "                    if not np.isnan(noncancers_code_times[i][t]) and noncancers_code_times[i][t] != -1:\n",
    "                        yr = int(noncancers_code_times[i][t])\n",
    "                        mon = max(1, ceil(int((noncancers_code_times[i][t] - int(noncancers_code_times[i][t])) * 12))) \n",
    "                        if yr > 1970:\n",
    "                            dt = datetime(year=yr, month=mon, day=1).timestamp()\n",
    "                    dis_date[i][6] = dt\n",
    "                    break"
   ],
   "metadata": {
    "collapsed": false,
    "ExecuteTime": {
     "end_time": "2025-04-24T11:51:31.339469Z",
     "start_time": "2025-04-24T11:45:39.437397Z"
    }
   },
   "id": "5bc5891c3d494588",
   "outputs": [],
   "execution_count": 10
  },
  {
   "cell_type": "code",
   "source": [
    "# save the result\n",
    "columns = ['hypertension', 'atrial_fibrillation', 'angina', 'chronic_artery_disease', 'heart_failure', 'stroke', 'peripheral_artery_disease']\n",
    "\n",
    "time_columns = ['time_' + c for c in columns]\n",
    "\n",
    "df_cvd = pd.DataFrame(dis_marker, columns=columns)\n",
    "df_cvd_times = pd.DataFrame(dis_date, columns=time_columns)\n",
    "\n",
    "# insert subject id: Eid\n",
    "df_cvd.insert(0, 'Eid', df_icd['Eid'])\n",
    "df_cvd_times.insert(0, 'Eid', df_icd['Eid'])"
   ],
   "metadata": {
    "collapsed": false,
    "ExecuteTime": {
     "end_time": "2025-04-24T11:51:31.386729Z",
     "start_time": "2025-04-24T11:51:31.381805Z"
    }
   },
   "id": "b5acde6f34981fc1",
   "outputs": [],
   "execution_count": 11
  },
  {
   "cell_type": "code",
   "source": [
    "# save the result\n",
    "df_cvd.to_csv('data/ukb_CVD.csv', index=False)\n",
    "df_cvd_times.to_csv('data/ukb_CVD_times.csv', index=False)"
   ],
   "metadata": {
    "collapsed": false,
    "ExecuteTime": {
     "end_time": "2025-04-24T11:53:13.798870Z",
     "start_time": "2025-04-24T11:53:12.727341Z"
    }
   },
   "id": "a7800b9f05dbacb9",
   "outputs": [],
   "execution_count": 12
  },
  {
   "cell_type": "code",
   "source": [
    "# count the number of subjects with each disease\n",
    "for d in columns:\n",
    "    print(d, ':', df_cvd[d].sum())"
   ],
   "metadata": {
    "collapsed": false,
    "ExecuteTime": {
     "end_time": "2025-04-24T11:53:14.929236Z",
     "start_time": "2025-04-24T11:53:14.922900Z"
    }
   },
   "id": "2bcf39e072c3bf9d",
   "outputs": [
    {
     "name": "stdout",
     "output_type": "stream",
     "text": [
      "hypertension : 194621\n",
      "atrial_fibrillation : 37959\n",
      "angina : 36524\n",
      "chronic_artery_disease : 49470\n",
      "heart_failure : 17100\n",
      "stroke : 18349\n",
      "peripheral_artery_disease : 9869\n"
     ]
    }
   ],
   "execution_count": 13
  },
  {
   "cell_type": "code",
   "source": [
    "import os\n",
    "os.makedirs('/Users/natsumikyouno/UKBiobank/diseases/CVD', exist_ok=True)\n",
    "df_cvd.to_csv('/Users/natsumikyouno/UKBiobank/diseases/CVD/CVD.csv', index=False)\n",
    "df_cvd_times.to_csv('/Users/natsumikyouno/UKBiobank/diseases/CVD/CVD_times.csv', index=False)"
   ],
   "metadata": {
    "collapsed": false,
    "ExecuteTime": {
     "end_time": "2025-04-24T11:55:22.273633Z",
     "start_time": "2025-04-24T11:55:21.195547Z"
    }
   },
   "id": "b2ee4bc5ca72a765",
   "outputs": [],
   "execution_count": 15
  },
  {
   "metadata": {},
   "cell_type": "code",
   "outputs": [],
   "execution_count": null,
   "source": "",
   "id": "149c2c6c1e1484bc"
  }
 ],
 "metadata": {
  "kernelspec": {
   "display_name": "Python 3",
   "language": "python",
   "name": "python3"
  },
  "language_info": {
   "codemirror_mode": {
    "name": "ipython",
    "version": 2
   },
   "file_extension": ".py",
   "mimetype": "text/x-python",
   "name": "python",
   "nbconvert_exporter": "python",
   "pygments_lexer": "ipython2",
   "version": "2.7.6"
  }
 },
 "nbformat": 4,
 "nbformat_minor": 5
}
